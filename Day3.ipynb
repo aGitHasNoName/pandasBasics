{
 "cells": [
  {
   "cell_type": "markdown",
   "id": "a44c3788-1b87-4f0b-aec7-c6d6f849fa26",
   "metadata": {},
   "source": [
    "# pandas"
   ]
  },
  {
   "cell_type": "code",
   "execution_count": null,
   "id": "fb4373f9-19c3-4ffa-a7a0-f8a923cafc92",
   "metadata": {},
   "outputs": [],
   "source": [
    "import pandas as pd"
   ]
  },
  {
   "cell_type": "markdown",
   "id": "427b9f4e-548e-485d-b174-7853676f21b2",
   "metadata": {},
   "source": [
    "We're going to work with our forest fire dataset again from Day One."
   ]
  },
  {
   "cell_type": "markdown",
   "id": "97e0843c-5b80-482c-b767-c207073f7028",
   "metadata": {},
   "source": [
    "#### If you are using Google Colab, you must run the next line of code. *If you are NOT using Google Colab, do NOT run the next line.*"
   ]
  },
  {
   "cell_type": "code",
   "execution_count": null,
   "id": "4efd26fc-e177-44da-9047-ea995943d06e",
   "metadata": {},
   "outputs": [],
   "source": [
    "!wget https://raw.githubusercontent.com/aGitHasNoName/pandasBasics/main/forestfires.csv"
   ]
  },
  {
   "cell_type": "markdown",
   "id": "99e8a3d8-b6a6-433b-960c-e74335832a85",
   "metadata": {},
   "source": [
    "<br><br>Everyone can now run the next line of code to create a DataFrame from our csv file."
   ]
  },
  {
   "cell_type": "code",
   "execution_count": null,
   "id": "2011bd39-be5f-4ac7-beab-6f137951e79b",
   "metadata": {},
   "outputs": [],
   "source": [
    "df = pd.read_csv(\"forestfires.csv\")"
   ]
  },
  {
   "cell_type": "code",
   "execution_count": null,
   "id": "1e81d576-c2aa-4b7c-9e2d-9f37389bc904",
   "metadata": {},
   "outputs": [],
   "source": [
    "df.head()"
   ]
  },
  {
   "cell_type": "markdown",
   "id": "b219d565-da58-4d98-b181-6e9e4ce810a8",
   "metadata": {},
   "source": [
    "## <br><br><br>Data aggregation"
   ]
  },
  {
   "cell_type": "markdown",
   "id": "354d7ba4-b6d9-4946-863f-4c6c0e00975b",
   "metadata": {},
   "source": [
    "Data aggregation means taking many data points and reducing them to one number, whether it's a count, sum, mean, or other single statistic. Here are some DataFrame method functions:"
   ]
  },
  {
   "cell_type": "markdown",
   "id": "92c9cea4-b108-426a-b45c-4e34aaaf9161",
   "metadata": {},
   "source": [
    "- [`.count()`](https://pandas.pydata.org/pandas-docs/stable/reference/api/pandas.DataFrame.count.html)\n",
    "- [`.sum()`](https://pandas.pydata.org/pandas-docs/stable/reference/api/pandas.DataFrame.sum.html)\n",
    "- [`.mean()`](https://pandas.pydata.org/pandas-docs/stable/reference/api/pandas.DataFrame.mean.html)\n",
    "- [`.median()`](https://pandas.pydata.org/pandas-docs/stable/reference/api/pandas.DataFrame.median.html)\n",
    "- [`.min()`](https://pandas.pydata.org/pandas-docs/stable/reference/api/pandas.DataFrame.min.html)\n",
    "- [`.max()`](https://pandas.pydata.org/pandas-docs/stable/reference/api/pandas.DataFrame.max.html)\n",
    "- [`.unique()`](https://pandas.pydata.org/pandas-docs/stable/reference/api/pandas.Series.unique.html)\n",
    "- [`.nunique()`](https://pandas.pydata.org/pandas-docs/stable/reference/api/pandas.Series.nunique.html)\n",
    "- [`.std()`](https://pandas.pydata.org/pandas-docs/stable/reference/api/pandas.DataFrame.std.html)   #Standard error\n",
    "- [`.var()`](https://pandas.pydata.org/pandas-docs/stable/reference/api/pandas.DataFrame.var.html)   #Variance\n",
    "- And more! https://pandas.pydata.org/docs/reference/series.html#computations-descriptive-stats"
   ]
  },
  {
   "cell_type": "markdown",
   "id": "7512f421-b3ec-4907-91fd-133db3843f05",
   "metadata": {},
   "source": [
    "If you use a method function on the entire dataset, it will try its best to execute the method for all columns."
   ]
  },
  {
   "cell_type": "code",
   "execution_count": null,
   "id": "506bf8c0-aa7d-46a4-b8ac-805e5abcac51",
   "metadata": {},
   "outputs": [],
   "source": [
    "df.count()"
   ]
  },
  {
   "cell_type": "code",
   "execution_count": null,
   "id": "1aff8bdf-0fce-4814-a4f3-c8b78ad3ec79",
   "metadata": {},
   "outputs": [],
   "source": [
    "df.min()"
   ]
  },
  {
   "cell_type": "code",
   "execution_count": null,
   "id": "06e8f8f8-abd9-44b2-b266-54dd50bf02c8",
   "metadata": {},
   "outputs": [],
   "source": [
    "df.sum()"
   ]
  },
  {
   "cell_type": "code",
   "execution_count": null,
   "id": "f182ddbf-8165-4534-9bdb-05c5e221ce42",
   "metadata": {},
   "outputs": [],
   "source": [
    "df.unique()"
   ]
  },
  {
   "cell_type": "markdown",
   "id": "fd03b7de-3a91-4be9-8095-32fb2ebfc3da",
   "metadata": {},
   "source": [
    "<br>Not all functions will work on the entire DataFrame. Most of the time you are interested in only a subset of the data:"
   ]
  },
  {
   "cell_type": "code",
   "execution_count": null,
   "id": "77cd48fc-6e9e-4c7a-9abd-09cbbc8a570b",
   "metadata": {},
   "outputs": [],
   "source": [
    "df[\"day\"].unique()"
   ]
  },
  {
   "cell_type": "code",
   "execution_count": null,
   "id": "f275f4e6-83c9-48e0-afd0-8b18afbdbc29",
   "metadata": {},
   "outputs": [],
   "source": [
    "list(df[\"day\"].unique())"
   ]
  },
  {
   "cell_type": "code",
   "execution_count": null,
   "id": "cf96f512-021d-4bea-af0f-b7c021208ec0",
   "metadata": {},
   "outputs": [],
   "source": [
    "df[\"month\"].nunique()"
   ]
  },
  {
   "cell_type": "code",
   "execution_count": null,
   "id": "a825e3ff-8ba2-4b0b-9cb1-a0037a1d5d8b",
   "metadata": {},
   "outputs": [],
   "source": [
    "df[\"temp\"].var()"
   ]
  },
  {
   "cell_type": "markdown",
   "id": "4eb489dd-5be6-4a1f-b9d0-04ee303a1dfa",
   "metadata": {},
   "source": [
    "### <br><br>Exercise 1"
   ]
  },
  {
   "cell_type": "markdown",
   "id": "85c53f90-e776-47b0-8746-9759c737109d",
   "metadata": {},
   "source": [
    "Write code to find the mean humidity of the dataset:"
   ]
  },
  {
   "cell_type": "code",
   "execution_count": null,
   "id": "b7fc17e6-a05d-44a6-acb4-3f37886c2907",
   "metadata": {},
   "outputs": [],
   "source": []
  },
  {
   "cell_type": "markdown",
   "id": "ee6a45ac-3652-432d-aa9c-58e6aaeb5260",
   "metadata": {},
   "source": [
    "Write code to find the coldest temperature in the dataset:"
   ]
  },
  {
   "cell_type": "code",
   "execution_count": null,
   "id": "2cbf6213-e015-4ae3-8a2d-a50a4b9500d3",
   "metadata": {},
   "outputs": [],
   "source": []
  },
  {
   "cell_type": "markdown",
   "id": "094e8a28-eca5-4636-b4cf-d55fa47189c0",
   "metadata": {},
   "source": [
    "## <br><br>groupby"
   ]
  },
  {
   "cell_type": "markdown",
   "id": "ac008ba8-c273-4186-b98b-0535c3a60c2c",
   "metadata": {},
   "source": [
    "Often, you will want to calculate the statistics for a particular subgroup of a data column."
   ]
  },
  {
   "cell_type": "markdown",
   "id": "90224728-5435-41ed-ac5a-a25789d9b977",
   "metadata": {},
   "source": [
    "For example, let's say we want to ask if more fires happen on certain days of the week. This code will tell you the count for every column in the DataFrame except the column that you are using to group your data (i.e. \"day\")."
   ]
  },
  {
   "cell_type": "code",
   "execution_count": null,
   "id": "60656711-6831-46ca-8d23-01eef5f89d1f",
   "metadata": {},
   "outputs": [],
   "source": [
    "df.groupby(\"day\").count()"
   ]
  },
  {
   "cell_type": "markdown",
   "id": "ba2699ef-74bb-4884-a7d3-8a0a2e480679",
   "metadata": {},
   "source": [
    "<br>We can make this easier to read by sorting the rows from lowest count to highest count. We can string multiple method functions onto our code, as long as they go in the correct logical order. We will pick any column to sort on, since they are all the same."
   ]
  },
  {
   "cell_type": "code",
   "execution_count": null,
   "id": "1c0198a1-bb90-4478-886d-3ee199ab4bfd",
   "metadata": {},
   "outputs": [],
   "source": [
    "df.groupby(\"day\").count().sort_values(\"X\")"
   ]
  },
  {
   "cell_type": "markdown",
   "id": "705beddf-c156-4f7d-a977-91b4d01f5b1d",
   "metadata": {},
   "source": [
    "<br>It looks like weekends have more fires than weekdays."
   ]
  },
  {
   "cell_type": "markdown",
   "id": "e598c64a-fe48-4d1e-be96-9019ea4f5daa",
   "metadata": {},
   "source": [
    "### <br><br>Exercise 2"
   ]
  },
  {
   "cell_type": "markdown",
   "id": "9c332211-9a7c-49fe-9141-40215da1233d",
   "metadata": {},
   "source": [
    "Write code to find the mean for all the columns when grouped by month."
   ]
  },
  {
   "cell_type": "code",
   "execution_count": null,
   "id": "56f32a1e-5e73-4a5d-83e3-04e039640e67",
   "metadata": {},
   "outputs": [],
   "source": []
  },
  {
   "cell_type": "markdown",
   "id": "19995e59-4205-44c1-84f9-7f8f6b41cc1c",
   "metadata": {},
   "source": [
    "<br><br><br><br>If you only want to see an aggregate total for one column in the DataFrame, you can add on the indexing technique we learned yesterday. With this code I will ask, What is the mean area burned on each day of the week?"
   ]
  },
  {
   "cell_type": "code",
   "execution_count": null,
   "id": "34fb38d1-e20c-4c3b-8cf2-879978c31eb2",
   "metadata": {},
   "outputs": [],
   "source": [
    "df.groupby(\"day\")[[\"area_burned\"]].mean()"
   ]
  },
  {
   "cell_type": "markdown",
   "id": "45e4cb01-37c8-4df7-92e6-a20f333a4e32",
   "metadata": {},
   "source": [
    "<br>Again, we can also sort the data:"
   ]
  },
  {
   "cell_type": "code",
   "execution_count": null,
   "id": "8704bd13-65db-4738-bd92-99a3308ac002",
   "metadata": {},
   "outputs": [],
   "source": [
    "df.groupby(\"day\")[[\"area_burned\"]].mean().sort_values(\"area_burned\")"
   ]
  },
  {
   "cell_type": "markdown",
   "id": "6c6d8bd1-82b5-4b45-818f-059121c6ef30",
   "metadata": {},
   "source": [
    "<br>So Saturday fires are the most destructive fires."
   ]
  },
  {
   "cell_type": "markdown",
   "id": "8e788cde-12fa-42ff-ac69-e33ecf0f9005",
   "metadata": {},
   "source": [
    "<br>We can also add some other functions to our code, like round:"
   ]
  },
  {
   "cell_type": "code",
   "execution_count": null,
   "id": "b8949930-f8a2-4d6d-b3e4-c39a27520602",
   "metadata": {},
   "outputs": [],
   "source": [
    "df.groupby(\"day\")[[\"area_burned\"]].mean().round(2).sort_values(\"area_burned\")"
   ]
  },
  {
   "cell_type": "markdown",
   "id": "e1d7dd88-ca88-4792-b56e-3101ca17b6ca",
   "metadata": {},
   "source": [
    "### <br><br>Exercise 3"
   ]
  },
  {
   "cell_type": "markdown",
   "id": "9ffe388d-9ea7-4fb1-b164-a3c7cf6e68b1",
   "metadata": {},
   "source": [
    "Write code to count how many fires happened in each month (as a bonus, sort the results):"
   ]
  },
  {
   "cell_type": "code",
   "execution_count": null,
   "id": "0498befa-df51-4384-b12f-89ba6678443a",
   "metadata": {},
   "outputs": [],
   "source": []
  },
  {
   "cell_type": "markdown",
   "id": "d4c3d928-c9eb-4f89-b242-1184f31be343",
   "metadata": {},
   "source": [
    "Write code to see the mean area burned for fires in each month (as a bonus, round and sort the results):"
   ]
  },
  {
   "cell_type": "code",
   "execution_count": null,
   "id": "735a6427-3a2b-46fb-814a-e25eb0ae6b58",
   "metadata": {},
   "outputs": [],
   "source": []
  }
 ],
 "metadata": {
  "kernelspec": {
   "display_name": "Python 3",
   "language": "python",
   "name": "python3"
  },
  "language_info": {
   "codemirror_mode": {
    "name": "ipython",
    "version": 3
   },
   "file_extension": ".py",
   "mimetype": "text/x-python",
   "name": "python",
   "nbconvert_exporter": "python",
   "pygments_lexer": "ipython3",
   "version": "3.8.2"
  }
 },
 "nbformat": 4,
 "nbformat_minor": 5
}
