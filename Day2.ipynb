{
 "cells": [
  {
   "cell_type": "markdown",
   "id": "071fd37f-41fd-4fae-be80-e1e5f83ec9e9",
   "metadata": {},
   "source": [
    "# pandas "
   ]
  },
  {
   "cell_type": "markdown",
   "id": "2d64a4fc-d04d-4def-ade9-7b75a247595e",
   "metadata": {},
   "source": [
    "## Selecting data"
   ]
  },
  {
   "cell_type": "markdown",
   "id": "28aee474-cb2a-4190-8338-5641511900ea",
   "metadata": {},
   "source": [
    "There are multiple ways to select data in pandas. You will need to learn all of the ways because you will see these techniques being used in other people's code and in answers to your pandas questions when you search online.\n",
    "<br><br>In this notebook, we will cover:\n",
    "- Selecting columns using DataFrame indexing\n",
    "- Selecting rows based on a boolean condition using DataFrame indexing\n",
    "- Selecting columns, rows, and individual data points with `loc` and `iloc`\n",
    "- Selecting individual data points with `at` and `iat`\n",
    "*You cannot select individual data points using indexing.*"
   ]
  },
  {
   "cell_type": "markdown",
   "id": "a7d88827-be9c-482f-8fcd-2dc03b803340",
   "metadata": {},
   "source": [
    "#### <br>Import pandas"
   ]
  },
  {
   "cell_type": "markdown",
   "id": "1740edf8-9ec0-4943-b780-d05c51dd5862",
   "metadata": {},
   "source": [
    "We import pandas as a shortened nickname, `pd`, which is commonly used for pandas."
   ]
  },
  {
   "cell_type": "code",
   "execution_count": 3,
   "id": "b47bf87a-0401-45f8-8201-10dc6124bce8",
   "metadata": {
    "tags": []
   },
   "outputs": [],
   "source": [
    "import pandas as pd"
   ]
  },
  {
   "cell_type": "markdown",
   "id": "7da85aaa-51d5-4e2b-94d6-caccb19306f2",
   "metadata": {},
   "source": [
    "#### <br><br>Loading in our sample dataset"
   ]
  },
  {
   "cell_type": "markdown",
   "id": "0d643867-17c3-420a-8715-020c076211b1",
   "metadata": {},
   "source": [
    "Our sample dataset was taken from FiveThirtyEight. It contains game data for WNBA games since 1997."
   ]
  },
  {
   "cell_type": "code",
   "execution_count": 4,
   "id": "55a5fb6c-1e17-40c4-9ac9-2820989e6875",
   "metadata": {},
   "outputs": [],
   "source": [
    "df = pd.read_csv(\"wnba-team-elo-ratings.csv\")"
   ]
  },
  {
   "cell_type": "markdown",
   "id": "c45fab04-c63e-410f-970d-5b393e9c6275",
   "metadata": {},
   "source": [
    "<br>Take a minute to examine the dataset."
   ]
  },
  {
   "cell_type": "code",
   "execution_count": 5,
   "id": "efb8cec4-7384-43d5-883a-f4e05186ea7f",
   "metadata": {},
   "outputs": [
    {
     "data": {
      "text/html": [
       "<div>\n",
       "<style scoped>\n",
       "    .dataframe tbody tr th:only-of-type {\n",
       "        vertical-align: middle;\n",
       "    }\n",
       "\n",
       "    .dataframe tbody tr th {\n",
       "        vertical-align: top;\n",
       "    }\n",
       "\n",
       "    .dataframe thead th {\n",
       "        text-align: right;\n",
       "    }\n",
       "</style>\n",
       "<table border=\"1\" class=\"dataframe\">\n",
       "  <thead>\n",
       "    <tr style=\"text-align: right;\">\n",
       "      <th></th>\n",
       "      <th>season</th>\n",
       "      <th>date</th>\n",
       "      <th>team1</th>\n",
       "      <th>team2</th>\n",
       "      <th>name1</th>\n",
       "      <th>name2</th>\n",
       "      <th>neutral</th>\n",
       "      <th>playoff</th>\n",
       "      <th>score1</th>\n",
       "      <th>score2</th>\n",
       "      <th>elo1_pre</th>\n",
       "      <th>elo2_pre</th>\n",
       "      <th>elo1_post</th>\n",
       "      <th>elo2_post</th>\n",
       "      <th>prob1</th>\n",
       "      <th>is_home1</th>\n",
       "    </tr>\n",
       "  </thead>\n",
       "  <tbody>\n",
       "    <tr>\n",
       "      <th>0</th>\n",
       "      <td>2019</td>\n",
       "      <td>10/10/2019</td>\n",
       "      <td>WAS</td>\n",
       "      <td>CON</td>\n",
       "      <td>Washington Mystics</td>\n",
       "      <td>Connecticut Sun</td>\n",
       "      <td>0</td>\n",
       "      <td>1</td>\n",
       "      <td>89</td>\n",
       "      <td>78</td>\n",
       "      <td>1684</td>\n",
       "      <td>1634</td>\n",
       "      <td>1692</td>\n",
       "      <td>1627</td>\n",
       "      <td>0.718</td>\n",
       "      <td>1</td>\n",
       "    </tr>\n",
       "    <tr>\n",
       "      <th>1</th>\n",
       "      <td>2019</td>\n",
       "      <td>10/10/2019</td>\n",
       "      <td>CON</td>\n",
       "      <td>WAS</td>\n",
       "      <td>Connecticut Sun</td>\n",
       "      <td>Washington Mystics</td>\n",
       "      <td>0</td>\n",
       "      <td>1</td>\n",
       "      <td>78</td>\n",
       "      <td>89</td>\n",
       "      <td>1634</td>\n",
       "      <td>1684</td>\n",
       "      <td>1627</td>\n",
       "      <td>1692</td>\n",
       "      <td>0.282</td>\n",
       "      <td>0</td>\n",
       "    </tr>\n",
       "    <tr>\n",
       "      <th>2</th>\n",
       "      <td>2019</td>\n",
       "      <td>10/8/2019</td>\n",
       "      <td>WAS</td>\n",
       "      <td>CON</td>\n",
       "      <td>Washington Mystics</td>\n",
       "      <td>Connecticut Sun</td>\n",
       "      <td>0</td>\n",
       "      <td>1</td>\n",
       "      <td>86</td>\n",
       "      <td>90</td>\n",
       "      <td>1693</td>\n",
       "      <td>1626</td>\n",
       "      <td>1684</td>\n",
       "      <td>1634</td>\n",
       "      <td>0.476</td>\n",
       "      <td>0</td>\n",
       "    </tr>\n",
       "    <tr>\n",
       "      <th>3</th>\n",
       "      <td>2019</td>\n",
       "      <td>10/8/2019</td>\n",
       "      <td>CON</td>\n",
       "      <td>WAS</td>\n",
       "      <td>Connecticut Sun</td>\n",
       "      <td>Washington Mystics</td>\n",
       "      <td>0</td>\n",
       "      <td>1</td>\n",
       "      <td>90</td>\n",
       "      <td>86</td>\n",
       "      <td>1626</td>\n",
       "      <td>1693</td>\n",
       "      <td>1634</td>\n",
       "      <td>1684</td>\n",
       "      <td>0.524</td>\n",
       "      <td>1</td>\n",
       "    </tr>\n",
       "    <tr>\n",
       "      <th>4</th>\n",
       "      <td>2019</td>\n",
       "      <td>10/6/2019</td>\n",
       "      <td>WAS</td>\n",
       "      <td>CON</td>\n",
       "      <td>Washington Mystics</td>\n",
       "      <td>Connecticut Sun</td>\n",
       "      <td>0</td>\n",
       "      <td>1</td>\n",
       "      <td>94</td>\n",
       "      <td>81</td>\n",
       "      <td>1671</td>\n",
       "      <td>1648</td>\n",
       "      <td>1693</td>\n",
       "      <td>1626</td>\n",
       "      <td>0.399</td>\n",
       "      <td>0</td>\n",
       "    </tr>\n",
       "  </tbody>\n",
       "</table>\n",
       "</div>"
      ],
      "text/plain": [
       "   season        date team1 team2               name1               name2  \\\n",
       "0    2019  10/10/2019   WAS   CON  Washington Mystics     Connecticut Sun   \n",
       "1    2019  10/10/2019   CON   WAS     Connecticut Sun  Washington Mystics   \n",
       "2    2019   10/8/2019   WAS   CON  Washington Mystics     Connecticut Sun   \n",
       "3    2019   10/8/2019   CON   WAS     Connecticut Sun  Washington Mystics   \n",
       "4    2019   10/6/2019   WAS   CON  Washington Mystics     Connecticut Sun   \n",
       "\n",
       "   neutral  playoff  score1  score2  elo1_pre  elo2_pre  elo1_post  elo2_post  \\\n",
       "0        0        1      89      78      1684      1634       1692       1627   \n",
       "1        0        1      78      89      1634      1684       1627       1692   \n",
       "2        0        1      86      90      1693      1626       1684       1634   \n",
       "3        0        1      90      86      1626      1693       1634       1684   \n",
       "4        0        1      94      81      1671      1648       1693       1626   \n",
       "\n",
       "   prob1  is_home1  \n",
       "0  0.718         1  \n",
       "1  0.282         0  \n",
       "2  0.476         0  \n",
       "3  0.524         1  \n",
       "4  0.399         0  "
      ]
     },
     "execution_count": 5,
     "metadata": {},
     "output_type": "execute_result"
    }
   ],
   "source": [
    "df.head()"
   ]
  },
  {
   "cell_type": "markdown",
   "id": "ecb70078-93cb-4d37-bbc1-032319bc2b12",
   "metadata": {},
   "source": [
    "<br>How many rows are in the dataset?"
   ]
  },
  {
   "cell_type": "code",
   "execution_count": 6,
   "id": "3e39259b-0c57-4d9b-80cd-92a7e673ceb1",
   "metadata": {},
   "outputs": [
    {
     "data": {
      "text/plain": [
       "10488"
      ]
     },
     "execution_count": 6,
     "metadata": {},
     "output_type": "execute_result"
    }
   ],
   "source": [
    "len(df)"
   ]
  },
  {
   "cell_type": "markdown",
   "id": "e80522c1-6894-4ecc-ac14-aa19380cd838",
   "metadata": {},
   "source": [
    "### <br><br>Selecting columns or rows using indexing"
   ]
  },
  {
   "cell_type": "markdown",
   "id": "38748430-91e7-4487-a55a-03536f15b4cb",
   "metadata": {},
   "source": [
    "To create a DataFrame with only some columns, you use indexing, and you pass it a list of the columns that you want to include:"
   ]
  },
  {
   "cell_type": "code",
   "execution_count": 7,
   "id": "26f7e111-8e1b-4abb-abe5-8932d4e6e6bb",
   "metadata": {},
   "outputs": [
    {
     "data": {
      "text/html": [
       "<div>\n",
       "<style scoped>\n",
       "    .dataframe tbody tr th:only-of-type {\n",
       "        vertical-align: middle;\n",
       "    }\n",
       "\n",
       "    .dataframe tbody tr th {\n",
       "        vertical-align: top;\n",
       "    }\n",
       "\n",
       "    .dataframe thead th {\n",
       "        text-align: right;\n",
       "    }\n",
       "</style>\n",
       "<table border=\"1\" class=\"dataframe\">\n",
       "  <thead>\n",
       "    <tr style=\"text-align: right;\">\n",
       "      <th></th>\n",
       "      <th>season</th>\n",
       "      <th>team1</th>\n",
       "      <th>team2</th>\n",
       "    </tr>\n",
       "  </thead>\n",
       "  <tbody>\n",
       "    <tr>\n",
       "      <th>0</th>\n",
       "      <td>2019</td>\n",
       "      <td>WAS</td>\n",
       "      <td>CON</td>\n",
       "    </tr>\n",
       "    <tr>\n",
       "      <th>1</th>\n",
       "      <td>2019</td>\n",
       "      <td>CON</td>\n",
       "      <td>WAS</td>\n",
       "    </tr>\n",
       "    <tr>\n",
       "      <th>2</th>\n",
       "      <td>2019</td>\n",
       "      <td>WAS</td>\n",
       "      <td>CON</td>\n",
       "    </tr>\n",
       "    <tr>\n",
       "      <th>3</th>\n",
       "      <td>2019</td>\n",
       "      <td>CON</td>\n",
       "      <td>WAS</td>\n",
       "    </tr>\n",
       "    <tr>\n",
       "      <th>4</th>\n",
       "      <td>2019</td>\n",
       "      <td>WAS</td>\n",
       "      <td>CON</td>\n",
       "    </tr>\n",
       "    <tr>\n",
       "      <th>...</th>\n",
       "      <td>...</td>\n",
       "      <td>...</td>\n",
       "      <td>...</td>\n",
       "    </tr>\n",
       "    <tr>\n",
       "      <th>10483</th>\n",
       "      <td>1997</td>\n",
       "      <td>SAC</td>\n",
       "      <td>LVA</td>\n",
       "    </tr>\n",
       "    <tr>\n",
       "      <th>10484</th>\n",
       "      <td>1997</td>\n",
       "      <td>NYL</td>\n",
       "      <td>LAS</td>\n",
       "    </tr>\n",
       "    <tr>\n",
       "      <th>10485</th>\n",
       "      <td>1997</td>\n",
       "      <td>LAS</td>\n",
       "      <td>NYL</td>\n",
       "    </tr>\n",
       "    <tr>\n",
       "      <th>10486</th>\n",
       "      <td>1997</td>\n",
       "      <td>LVA</td>\n",
       "      <td>SAC</td>\n",
       "    </tr>\n",
       "    <tr>\n",
       "      <th>10487</th>\n",
       "      <td>1997</td>\n",
       "      <td>CLE</td>\n",
       "      <td>HOU</td>\n",
       "    </tr>\n",
       "  </tbody>\n",
       "</table>\n",
       "<p>10488 rows × 3 columns</p>\n",
       "</div>"
      ],
      "text/plain": [
       "       season team1 team2\n",
       "0        2019   WAS   CON\n",
       "1        2019   CON   WAS\n",
       "2        2019   WAS   CON\n",
       "3        2019   CON   WAS\n",
       "4        2019   WAS   CON\n",
       "...       ...   ...   ...\n",
       "10483    1997   SAC   LVA\n",
       "10484    1997   NYL   LAS\n",
       "10485    1997   LAS   NYL\n",
       "10486    1997   LVA   SAC\n",
       "10487    1997   CLE   HOU\n",
       "\n",
       "[10488 rows x 3 columns]"
      ]
     },
     "execution_count": 7,
     "metadata": {},
     "output_type": "execute_result"
    }
   ],
   "source": [
    "my_columns = [\"season\", \"team1\", \"team2\"]\n",
    "df[my_columns]"
   ]
  },
  {
   "cell_type": "markdown",
   "id": "d24024ea-a825-41b1-a8df-ccd0b2b41c74",
   "metadata": {},
   "source": [
    "<br>OR you could just include the list inside the indexing. This creates two sets of square brackets, which looks a little silly, but it works!"
   ]
  },
  {
   "cell_type": "code",
   "execution_count": 8,
   "id": "2c605f4b-db6a-4430-9c7c-b8e78e01bd31",
   "metadata": {},
   "outputs": [
    {
     "data": {
      "text/html": [
       "<div>\n",
       "<style scoped>\n",
       "    .dataframe tbody tr th:only-of-type {\n",
       "        vertical-align: middle;\n",
       "    }\n",
       "\n",
       "    .dataframe tbody tr th {\n",
       "        vertical-align: top;\n",
       "    }\n",
       "\n",
       "    .dataframe thead th {\n",
       "        text-align: right;\n",
       "    }\n",
       "</style>\n",
       "<table border=\"1\" class=\"dataframe\">\n",
       "  <thead>\n",
       "    <tr style=\"text-align: right;\">\n",
       "      <th></th>\n",
       "      <th>season</th>\n",
       "      <th>team1</th>\n",
       "      <th>team2</th>\n",
       "    </tr>\n",
       "  </thead>\n",
       "  <tbody>\n",
       "    <tr>\n",
       "      <th>0</th>\n",
       "      <td>2019</td>\n",
       "      <td>WAS</td>\n",
       "      <td>CON</td>\n",
       "    </tr>\n",
       "    <tr>\n",
       "      <th>1</th>\n",
       "      <td>2019</td>\n",
       "      <td>CON</td>\n",
       "      <td>WAS</td>\n",
       "    </tr>\n",
       "    <tr>\n",
       "      <th>2</th>\n",
       "      <td>2019</td>\n",
       "      <td>WAS</td>\n",
       "      <td>CON</td>\n",
       "    </tr>\n",
       "    <tr>\n",
       "      <th>3</th>\n",
       "      <td>2019</td>\n",
       "      <td>CON</td>\n",
       "      <td>WAS</td>\n",
       "    </tr>\n",
       "    <tr>\n",
       "      <th>4</th>\n",
       "      <td>2019</td>\n",
       "      <td>WAS</td>\n",
       "      <td>CON</td>\n",
       "    </tr>\n",
       "    <tr>\n",
       "      <th>...</th>\n",
       "      <td>...</td>\n",
       "      <td>...</td>\n",
       "      <td>...</td>\n",
       "    </tr>\n",
       "    <tr>\n",
       "      <th>10483</th>\n",
       "      <td>1997</td>\n",
       "      <td>SAC</td>\n",
       "      <td>LVA</td>\n",
       "    </tr>\n",
       "    <tr>\n",
       "      <th>10484</th>\n",
       "      <td>1997</td>\n",
       "      <td>NYL</td>\n",
       "      <td>LAS</td>\n",
       "    </tr>\n",
       "    <tr>\n",
       "      <th>10485</th>\n",
       "      <td>1997</td>\n",
       "      <td>LAS</td>\n",
       "      <td>NYL</td>\n",
       "    </tr>\n",
       "    <tr>\n",
       "      <th>10486</th>\n",
       "      <td>1997</td>\n",
       "      <td>LVA</td>\n",
       "      <td>SAC</td>\n",
       "    </tr>\n",
       "    <tr>\n",
       "      <th>10487</th>\n",
       "      <td>1997</td>\n",
       "      <td>CLE</td>\n",
       "      <td>HOU</td>\n",
       "    </tr>\n",
       "  </tbody>\n",
       "</table>\n",
       "<p>10488 rows × 3 columns</p>\n",
       "</div>"
      ],
      "text/plain": [
       "       season team1 team2\n",
       "0        2019   WAS   CON\n",
       "1        2019   CON   WAS\n",
       "2        2019   WAS   CON\n",
       "3        2019   CON   WAS\n",
       "4        2019   WAS   CON\n",
       "...       ...   ...   ...\n",
       "10483    1997   SAC   LVA\n",
       "10484    1997   NYL   LAS\n",
       "10485    1997   LAS   NYL\n",
       "10486    1997   LVA   SAC\n",
       "10487    1997   CLE   HOU\n",
       "\n",
       "[10488 rows x 3 columns]"
      ]
     },
     "execution_count": 8,
     "metadata": {},
     "output_type": "execute_result"
    }
   ],
   "source": [
    "df[[\"season\", \"team1\", \"team2\"]]"
   ]
  },
  {
   "cell_type": "markdown",
   "id": "aa617ea7-77eb-4cc0-a45e-30fa3d8ccca1",
   "metadata": {},
   "source": [
    "<br>If you want to return just one column as a DataFrame, you still use the list inside the index:"
   ]
  },
  {
   "cell_type": "code",
   "execution_count": 9,
   "id": "9c8c54eb-5adb-4e90-97ca-1fc0f46b70d6",
   "metadata": {},
   "outputs": [
    {
     "data": {
      "text/html": [
       "<div>\n",
       "<style scoped>\n",
       "    .dataframe tbody tr th:only-of-type {\n",
       "        vertical-align: middle;\n",
       "    }\n",
       "\n",
       "    .dataframe tbody tr th {\n",
       "        vertical-align: top;\n",
       "    }\n",
       "\n",
       "    .dataframe thead th {\n",
       "        text-align: right;\n",
       "    }\n",
       "</style>\n",
       "<table border=\"1\" class=\"dataframe\">\n",
       "  <thead>\n",
       "    <tr style=\"text-align: right;\">\n",
       "      <th></th>\n",
       "      <th>date</th>\n",
       "    </tr>\n",
       "  </thead>\n",
       "  <tbody>\n",
       "    <tr>\n",
       "      <th>0</th>\n",
       "      <td>10/10/2019</td>\n",
       "    </tr>\n",
       "    <tr>\n",
       "      <th>1</th>\n",
       "      <td>10/10/2019</td>\n",
       "    </tr>\n",
       "    <tr>\n",
       "      <th>2</th>\n",
       "      <td>10/8/2019</td>\n",
       "    </tr>\n",
       "    <tr>\n",
       "      <th>3</th>\n",
       "      <td>10/8/2019</td>\n",
       "    </tr>\n",
       "    <tr>\n",
       "      <th>4</th>\n",
       "      <td>10/6/2019</td>\n",
       "    </tr>\n",
       "    <tr>\n",
       "      <th>...</th>\n",
       "      <td>...</td>\n",
       "    </tr>\n",
       "    <tr>\n",
       "      <th>10483</th>\n",
       "      <td>6/21/1997</td>\n",
       "    </tr>\n",
       "    <tr>\n",
       "      <th>10484</th>\n",
       "      <td>6/21/1997</td>\n",
       "    </tr>\n",
       "    <tr>\n",
       "      <th>10485</th>\n",
       "      <td>6/21/1997</td>\n",
       "    </tr>\n",
       "    <tr>\n",
       "      <th>10486</th>\n",
       "      <td>6/21/1997</td>\n",
       "    </tr>\n",
       "    <tr>\n",
       "      <th>10487</th>\n",
       "      <td>6/21/1997</td>\n",
       "    </tr>\n",
       "  </tbody>\n",
       "</table>\n",
       "<p>10488 rows × 1 columns</p>\n",
       "</div>"
      ],
      "text/plain": [
       "             date\n",
       "0      10/10/2019\n",
       "1      10/10/2019\n",
       "2       10/8/2019\n",
       "3       10/8/2019\n",
       "4       10/6/2019\n",
       "...           ...\n",
       "10483   6/21/1997\n",
       "10484   6/21/1997\n",
       "10485   6/21/1997\n",
       "10486   6/21/1997\n",
       "10487   6/21/1997\n",
       "\n",
       "[10488 rows x 1 columns]"
      ]
     },
     "execution_count": 9,
     "metadata": {},
     "output_type": "execute_result"
    }
   ],
   "source": [
    "df[[\"date\"]]"
   ]
  },
  {
   "cell_type": "markdown",
   "id": "51f1cf67-bdb8-480e-8acc-12710bb3b90f",
   "metadata": {},
   "source": [
    "### <br><br>Exercise 1"
   ]
  },
  {
   "cell_type": "markdown",
   "id": "7551c9cb-c710-45fd-a20b-f1ad68729825",
   "metadata": {},
   "source": [
    "Here's a reminder of what the DataFrame looks like:"
   ]
  },
  {
   "cell_type": "code",
   "execution_count": 10,
   "id": "089c2dd0-02e9-4d21-b543-b57a8804e4ac",
   "metadata": {},
   "outputs": [
    {
     "data": {
      "text/html": [
       "<div>\n",
       "<style scoped>\n",
       "    .dataframe tbody tr th:only-of-type {\n",
       "        vertical-align: middle;\n",
       "    }\n",
       "\n",
       "    .dataframe tbody tr th {\n",
       "        vertical-align: top;\n",
       "    }\n",
       "\n",
       "    .dataframe thead th {\n",
       "        text-align: right;\n",
       "    }\n",
       "</style>\n",
       "<table border=\"1\" class=\"dataframe\">\n",
       "  <thead>\n",
       "    <tr style=\"text-align: right;\">\n",
       "      <th></th>\n",
       "      <th>season</th>\n",
       "      <th>date</th>\n",
       "      <th>team1</th>\n",
       "      <th>team2</th>\n",
       "      <th>name1</th>\n",
       "      <th>name2</th>\n",
       "      <th>neutral</th>\n",
       "      <th>playoff</th>\n",
       "      <th>score1</th>\n",
       "      <th>score2</th>\n",
       "      <th>elo1_pre</th>\n",
       "      <th>elo2_pre</th>\n",
       "      <th>elo1_post</th>\n",
       "      <th>elo2_post</th>\n",
       "      <th>prob1</th>\n",
       "      <th>is_home1</th>\n",
       "    </tr>\n",
       "  </thead>\n",
       "  <tbody>\n",
       "    <tr>\n",
       "      <th>0</th>\n",
       "      <td>2019</td>\n",
       "      <td>10/10/2019</td>\n",
       "      <td>WAS</td>\n",
       "      <td>CON</td>\n",
       "      <td>Washington Mystics</td>\n",
       "      <td>Connecticut Sun</td>\n",
       "      <td>0</td>\n",
       "      <td>1</td>\n",
       "      <td>89</td>\n",
       "      <td>78</td>\n",
       "      <td>1684</td>\n",
       "      <td>1634</td>\n",
       "      <td>1692</td>\n",
       "      <td>1627</td>\n",
       "      <td>0.718</td>\n",
       "      <td>1</td>\n",
       "    </tr>\n",
       "    <tr>\n",
       "      <th>1</th>\n",
       "      <td>2019</td>\n",
       "      <td>10/10/2019</td>\n",
       "      <td>CON</td>\n",
       "      <td>WAS</td>\n",
       "      <td>Connecticut Sun</td>\n",
       "      <td>Washington Mystics</td>\n",
       "      <td>0</td>\n",
       "      <td>1</td>\n",
       "      <td>78</td>\n",
       "      <td>89</td>\n",
       "      <td>1634</td>\n",
       "      <td>1684</td>\n",
       "      <td>1627</td>\n",
       "      <td>1692</td>\n",
       "      <td>0.282</td>\n",
       "      <td>0</td>\n",
       "    </tr>\n",
       "    <tr>\n",
       "      <th>2</th>\n",
       "      <td>2019</td>\n",
       "      <td>10/8/2019</td>\n",
       "      <td>WAS</td>\n",
       "      <td>CON</td>\n",
       "      <td>Washington Mystics</td>\n",
       "      <td>Connecticut Sun</td>\n",
       "      <td>0</td>\n",
       "      <td>1</td>\n",
       "      <td>86</td>\n",
       "      <td>90</td>\n",
       "      <td>1693</td>\n",
       "      <td>1626</td>\n",
       "      <td>1684</td>\n",
       "      <td>1634</td>\n",
       "      <td>0.476</td>\n",
       "      <td>0</td>\n",
       "    </tr>\n",
       "    <tr>\n",
       "      <th>3</th>\n",
       "      <td>2019</td>\n",
       "      <td>10/8/2019</td>\n",
       "      <td>CON</td>\n",
       "      <td>WAS</td>\n",
       "      <td>Connecticut Sun</td>\n",
       "      <td>Washington Mystics</td>\n",
       "      <td>0</td>\n",
       "      <td>1</td>\n",
       "      <td>90</td>\n",
       "      <td>86</td>\n",
       "      <td>1626</td>\n",
       "      <td>1693</td>\n",
       "      <td>1634</td>\n",
       "      <td>1684</td>\n",
       "      <td>0.524</td>\n",
       "      <td>1</td>\n",
       "    </tr>\n",
       "    <tr>\n",
       "      <th>4</th>\n",
       "      <td>2019</td>\n",
       "      <td>10/6/2019</td>\n",
       "      <td>WAS</td>\n",
       "      <td>CON</td>\n",
       "      <td>Washington Mystics</td>\n",
       "      <td>Connecticut Sun</td>\n",
       "      <td>0</td>\n",
       "      <td>1</td>\n",
       "      <td>94</td>\n",
       "      <td>81</td>\n",
       "      <td>1671</td>\n",
       "      <td>1648</td>\n",
       "      <td>1693</td>\n",
       "      <td>1626</td>\n",
       "      <td>0.399</td>\n",
       "      <td>0</td>\n",
       "    </tr>\n",
       "  </tbody>\n",
       "</table>\n",
       "</div>"
      ],
      "text/plain": [
       "   season        date team1 team2               name1               name2  \\\n",
       "0    2019  10/10/2019   WAS   CON  Washington Mystics     Connecticut Sun   \n",
       "1    2019  10/10/2019   CON   WAS     Connecticut Sun  Washington Mystics   \n",
       "2    2019   10/8/2019   WAS   CON  Washington Mystics     Connecticut Sun   \n",
       "3    2019   10/8/2019   CON   WAS     Connecticut Sun  Washington Mystics   \n",
       "4    2019   10/6/2019   WAS   CON  Washington Mystics     Connecticut Sun   \n",
       "\n",
       "   neutral  playoff  score1  score2  elo1_pre  elo2_pre  elo1_post  elo2_post  \\\n",
       "0        0        1      89      78      1684      1634       1692       1627   \n",
       "1        0        1      78      89      1634      1684       1627       1692   \n",
       "2        0        1      86      90      1693      1626       1684       1634   \n",
       "3        0        1      90      86      1626      1693       1634       1684   \n",
       "4        0        1      94      81      1671      1648       1693       1626   \n",
       "\n",
       "   prob1  is_home1  \n",
       "0  0.718         1  \n",
       "1  0.282         0  \n",
       "2  0.476         0  \n",
       "3  0.524         1  \n",
       "4  0.399         0  "
      ]
     },
     "execution_count": 10,
     "metadata": {},
     "output_type": "execute_result"
    }
   ],
   "source": [
    "df.head()"
   ]
  },
  {
   "cell_type": "markdown",
   "id": "4112f961-38ed-42a1-b00f-7ad1a06f0904",
   "metadata": {},
   "source": [
    "Write code to return the name1, name2, and is_home1 columns:"
   ]
  },
  {
   "cell_type": "code",
   "execution_count": null,
   "id": "3d689a06-5424-4d8a-875b-eec479243a4c",
   "metadata": {},
   "outputs": [],
   "source": []
  },
  {
   "cell_type": "markdown",
   "id": "f05b16f1-6e45-4b42-a7f0-1735f955b953",
   "metadata": {},
   "source": [
    "Write code to return the playoff column:"
   ]
  },
  {
   "cell_type": "code",
   "execution_count": null,
   "id": "77d5766f-95cb-4237-927e-5f797d74978d",
   "metadata": {},
   "outputs": [],
   "source": []
  },
  {
   "cell_type": "markdown",
   "id": "41a8f7fe-46d1-4df6-9f5a-24b820c69536",
   "metadata": {},
   "source": [
    "<br><br><br>If you only index the column name, without putting it in a list, you get a different type of pandas object - the **Series** object."
   ]
  },
  {
   "cell_type": "code",
   "execution_count": 11,
   "id": "99c46638-438f-486b-a12d-6e19206453d8",
   "metadata": {},
   "outputs": [
    {
     "data": {
      "text/plain": [
       "0        10/10/2019\n",
       "1        10/10/2019\n",
       "2         10/8/2019\n",
       "3         10/8/2019\n",
       "4         10/6/2019\n",
       "            ...    \n",
       "10483     6/21/1997\n",
       "10484     6/21/1997\n",
       "10485     6/21/1997\n",
       "10486     6/21/1997\n",
       "10487     6/21/1997\n",
       "Name: date, Length: 10488, dtype: object"
      ]
     },
     "execution_count": 11,
     "metadata": {},
     "output_type": "execute_result"
    }
   ],
   "source": [
    "df[\"date\"]"
   ]
  },
  {
   "cell_type": "markdown",
   "id": "0962282a-0ed3-4935-a455-0f2029b74044",
   "metadata": {},
   "source": [
    "<br>A Series object only returns the values from one column. It can be turned into a list, which is very convenient:"
   ]
  },
  {
   "cell_type": "code",
   "execution_count": 12,
   "id": "44e0725d-677d-4255-9010-a5ac78ccddce",
   "metadata": {},
   "outputs": [
    {
     "name": "stdout",
     "output_type": "stream",
     "text": [
      "10488\n",
      "<class 'list'>\n"
     ]
    }
   ],
   "source": [
    "date_list = list(df[\"date\"])\n",
    "print(len(date_list))\n",
    "print(type(date_list))"
   ]
  },
  {
   "cell_type": "markdown",
   "id": "75343d60-4078-4b66-9f9c-10583a46eccd",
   "metadata": {},
   "source": [
    "<br>**A Series object is a one-dimensional object, while a DataFrame is a two-dimensional object. A Series can be turned into a list, while a DataFrame can be indexed based on row number, so they both have their uses.**"
   ]
  },
  {
   "cell_type": "markdown",
   "id": "1149965e-5dc5-44ad-bef4-4be5d54dcf05",
   "metadata": {},
   "source": [
    "### <br><br>Exercise 2"
   ]
  },
  {
   "cell_type": "markdown",
   "id": "2c614c15-212c-48e0-8524-23c54d4786d5",
   "metadata": {},
   "source": [
    "Write code to return a list of data in the prob1 column:"
   ]
  },
  {
   "cell_type": "code",
   "execution_count": 13,
   "id": "981427e2-0002-4bda-beb8-059cf083ee70",
   "metadata": {},
   "outputs": [
    {
     "ename": "SyntaxError",
     "evalue": "invalid syntax (1693358480.py, line 1)",
     "output_type": "error",
     "traceback": [
      "\u001b[0;36m  File \u001b[0;32m\"/var/folders/0q/cqksr9q162s4_lvj5xz4q0s40000gn/T/ipykernel_88827/1693358480.py\"\u001b[0;36m, line \u001b[0;32m1\u001b[0m\n\u001b[0;31m    prob_data =\u001b[0m\n\u001b[0m                ^\u001b[0m\n\u001b[0;31mSyntaxError\u001b[0m\u001b[0;31m:\u001b[0m invalid syntax\n"
     ]
    }
   ],
   "source": [
    "prob_data = "
   ]
  },
  {
   "cell_type": "code",
   "execution_count": null,
   "id": "4352ed8f-3522-426f-8a6e-9cf3a5cbabeb",
   "metadata": {},
   "outputs": [],
   "source": [
    "print(len(prob_data))\n",
    "print(type(prob_data))"
   ]
  },
  {
   "cell_type": "markdown",
   "id": "f5919dba-b554-4567-a78f-d4834bc8e620",
   "metadata": {},
   "source": [
    "### <br><br><br>Selecting rows using indexing"
   ]
  },
  {
   "cell_type": "markdown",
   "id": "e143f99a-0945-4aff-99c3-5a8cd26346d2",
   "metadata": {},
   "source": [
    "If we want to return a DataFrame with only some **rows**, we can index a range. DataFrame indexing uses regular Python indexing, so we ask for the first item we want, and then a colon, and then we go one position past the last item we want. "
   ]
  },
  {
   "cell_type": "code",
   "execution_count": 14,
   "id": "0701704b-1fd2-4c37-8043-76d8af913728",
   "metadata": {},
   "outputs": [
    {
     "data": {
      "text/html": [
       "<div>\n",
       "<style scoped>\n",
       "    .dataframe tbody tr th:only-of-type {\n",
       "        vertical-align: middle;\n",
       "    }\n",
       "\n",
       "    .dataframe tbody tr th {\n",
       "        vertical-align: top;\n",
       "    }\n",
       "\n",
       "    .dataframe thead th {\n",
       "        text-align: right;\n",
       "    }\n",
       "</style>\n",
       "<table border=\"1\" class=\"dataframe\">\n",
       "  <thead>\n",
       "    <tr style=\"text-align: right;\">\n",
       "      <th></th>\n",
       "      <th>season</th>\n",
       "      <th>date</th>\n",
       "      <th>team1</th>\n",
       "      <th>team2</th>\n",
       "      <th>name1</th>\n",
       "      <th>name2</th>\n",
       "      <th>neutral</th>\n",
       "      <th>playoff</th>\n",
       "      <th>score1</th>\n",
       "      <th>score2</th>\n",
       "      <th>elo1_pre</th>\n",
       "      <th>elo2_pre</th>\n",
       "      <th>elo1_post</th>\n",
       "      <th>elo2_post</th>\n",
       "      <th>prob1</th>\n",
       "      <th>is_home1</th>\n",
       "    </tr>\n",
       "  </thead>\n",
       "  <tbody>\n",
       "    <tr>\n",
       "      <th>0</th>\n",
       "      <td>2019</td>\n",
       "      <td>10/10/2019</td>\n",
       "      <td>WAS</td>\n",
       "      <td>CON</td>\n",
       "      <td>Washington Mystics</td>\n",
       "      <td>Connecticut Sun</td>\n",
       "      <td>0</td>\n",
       "      <td>1</td>\n",
       "      <td>89</td>\n",
       "      <td>78</td>\n",
       "      <td>1684</td>\n",
       "      <td>1634</td>\n",
       "      <td>1692</td>\n",
       "      <td>1627</td>\n",
       "      <td>0.718</td>\n",
       "      <td>1</td>\n",
       "    </tr>\n",
       "    <tr>\n",
       "      <th>1</th>\n",
       "      <td>2019</td>\n",
       "      <td>10/10/2019</td>\n",
       "      <td>CON</td>\n",
       "      <td>WAS</td>\n",
       "      <td>Connecticut Sun</td>\n",
       "      <td>Washington Mystics</td>\n",
       "      <td>0</td>\n",
       "      <td>1</td>\n",
       "      <td>78</td>\n",
       "      <td>89</td>\n",
       "      <td>1634</td>\n",
       "      <td>1684</td>\n",
       "      <td>1627</td>\n",
       "      <td>1692</td>\n",
       "      <td>0.282</td>\n",
       "      <td>0</td>\n",
       "    </tr>\n",
       "    <tr>\n",
       "      <th>2</th>\n",
       "      <td>2019</td>\n",
       "      <td>10/8/2019</td>\n",
       "      <td>WAS</td>\n",
       "      <td>CON</td>\n",
       "      <td>Washington Mystics</td>\n",
       "      <td>Connecticut Sun</td>\n",
       "      <td>0</td>\n",
       "      <td>1</td>\n",
       "      <td>86</td>\n",
       "      <td>90</td>\n",
       "      <td>1693</td>\n",
       "      <td>1626</td>\n",
       "      <td>1684</td>\n",
       "      <td>1634</td>\n",
       "      <td>0.476</td>\n",
       "      <td>0</td>\n",
       "    </tr>\n",
       "    <tr>\n",
       "      <th>3</th>\n",
       "      <td>2019</td>\n",
       "      <td>10/8/2019</td>\n",
       "      <td>CON</td>\n",
       "      <td>WAS</td>\n",
       "      <td>Connecticut Sun</td>\n",
       "      <td>Washington Mystics</td>\n",
       "      <td>0</td>\n",
       "      <td>1</td>\n",
       "      <td>90</td>\n",
       "      <td>86</td>\n",
       "      <td>1626</td>\n",
       "      <td>1693</td>\n",
       "      <td>1634</td>\n",
       "      <td>1684</td>\n",
       "      <td>0.524</td>\n",
       "      <td>1</td>\n",
       "    </tr>\n",
       "    <tr>\n",
       "      <th>4</th>\n",
       "      <td>2019</td>\n",
       "      <td>10/6/2019</td>\n",
       "      <td>WAS</td>\n",
       "      <td>CON</td>\n",
       "      <td>Washington Mystics</td>\n",
       "      <td>Connecticut Sun</td>\n",
       "      <td>0</td>\n",
       "      <td>1</td>\n",
       "      <td>94</td>\n",
       "      <td>81</td>\n",
       "      <td>1671</td>\n",
       "      <td>1648</td>\n",
       "      <td>1693</td>\n",
       "      <td>1626</td>\n",
       "      <td>0.399</td>\n",
       "      <td>0</td>\n",
       "    </tr>\n",
       "    <tr>\n",
       "      <th>5</th>\n",
       "      <td>2019</td>\n",
       "      <td>10/6/2019</td>\n",
       "      <td>CON</td>\n",
       "      <td>WAS</td>\n",
       "      <td>Connecticut Sun</td>\n",
       "      <td>Washington Mystics</td>\n",
       "      <td>0</td>\n",
       "      <td>1</td>\n",
       "      <td>81</td>\n",
       "      <td>94</td>\n",
       "      <td>1648</td>\n",
       "      <td>1671</td>\n",
       "      <td>1626</td>\n",
       "      <td>1693</td>\n",
       "      <td>0.601</td>\n",
       "      <td>1</td>\n",
       "    </tr>\n",
       "    <tr>\n",
       "      <th>6</th>\n",
       "      <td>2019</td>\n",
       "      <td>10/1/2019</td>\n",
       "      <td>WAS</td>\n",
       "      <td>CON</td>\n",
       "      <td>Washington Mystics</td>\n",
       "      <td>Connecticut Sun</td>\n",
       "      <td>0</td>\n",
       "      <td>1</td>\n",
       "      <td>87</td>\n",
       "      <td>99</td>\n",
       "      <td>1700</td>\n",
       "      <td>1618</td>\n",
       "      <td>1671</td>\n",
       "      <td>1648</td>\n",
       "      <td>0.763</td>\n",
       "      <td>1</td>\n",
       "    </tr>\n",
       "    <tr>\n",
       "      <th>7</th>\n",
       "      <td>2019</td>\n",
       "      <td>10/1/2019</td>\n",
       "      <td>CON</td>\n",
       "      <td>WAS</td>\n",
       "      <td>Connecticut Sun</td>\n",
       "      <td>Washington Mystics</td>\n",
       "      <td>0</td>\n",
       "      <td>1</td>\n",
       "      <td>99</td>\n",
       "      <td>87</td>\n",
       "      <td>1618</td>\n",
       "      <td>1700</td>\n",
       "      <td>1648</td>\n",
       "      <td>1671</td>\n",
       "      <td>0.237</td>\n",
       "      <td>0</td>\n",
       "    </tr>\n",
       "    <tr>\n",
       "      <th>8</th>\n",
       "      <td>2019</td>\n",
       "      <td>9/29/2019</td>\n",
       "      <td>WAS</td>\n",
       "      <td>CON</td>\n",
       "      <td>Washington Mystics</td>\n",
       "      <td>Connecticut Sun</td>\n",
       "      <td>0</td>\n",
       "      <td>1</td>\n",
       "      <td>95</td>\n",
       "      <td>86</td>\n",
       "      <td>1694</td>\n",
       "      <td>1624</td>\n",
       "      <td>1700</td>\n",
       "      <td>1618</td>\n",
       "      <td>0.747</td>\n",
       "      <td>1</td>\n",
       "    </tr>\n",
       "    <tr>\n",
       "      <th>9</th>\n",
       "      <td>2019</td>\n",
       "      <td>9/29/2019</td>\n",
       "      <td>CON</td>\n",
       "      <td>WAS</td>\n",
       "      <td>Connecticut Sun</td>\n",
       "      <td>Washington Mystics</td>\n",
       "      <td>0</td>\n",
       "      <td>1</td>\n",
       "      <td>86</td>\n",
       "      <td>95</td>\n",
       "      <td>1624</td>\n",
       "      <td>1694</td>\n",
       "      <td>1618</td>\n",
       "      <td>1700</td>\n",
       "      <td>0.253</td>\n",
       "      <td>0</td>\n",
       "    </tr>\n",
       "  </tbody>\n",
       "</table>\n",
       "</div>"
      ],
      "text/plain": [
       "   season        date team1 team2               name1               name2  \\\n",
       "0    2019  10/10/2019   WAS   CON  Washington Mystics     Connecticut Sun   \n",
       "1    2019  10/10/2019   CON   WAS     Connecticut Sun  Washington Mystics   \n",
       "2    2019   10/8/2019   WAS   CON  Washington Mystics     Connecticut Sun   \n",
       "3    2019   10/8/2019   CON   WAS     Connecticut Sun  Washington Mystics   \n",
       "4    2019   10/6/2019   WAS   CON  Washington Mystics     Connecticut Sun   \n",
       "5    2019   10/6/2019   CON   WAS     Connecticut Sun  Washington Mystics   \n",
       "6    2019   10/1/2019   WAS   CON  Washington Mystics     Connecticut Sun   \n",
       "7    2019   10/1/2019   CON   WAS     Connecticut Sun  Washington Mystics   \n",
       "8    2019   9/29/2019   WAS   CON  Washington Mystics     Connecticut Sun   \n",
       "9    2019   9/29/2019   CON   WAS     Connecticut Sun  Washington Mystics   \n",
       "\n",
       "   neutral  playoff  score1  score2  elo1_pre  elo2_pre  elo1_post  elo2_post  \\\n",
       "0        0        1      89      78      1684      1634       1692       1627   \n",
       "1        0        1      78      89      1634      1684       1627       1692   \n",
       "2        0        1      86      90      1693      1626       1684       1634   \n",
       "3        0        1      90      86      1626      1693       1634       1684   \n",
       "4        0        1      94      81      1671      1648       1693       1626   \n",
       "5        0        1      81      94      1648      1671       1626       1693   \n",
       "6        0        1      87      99      1700      1618       1671       1648   \n",
       "7        0        1      99      87      1618      1700       1648       1671   \n",
       "8        0        1      95      86      1694      1624       1700       1618   \n",
       "9        0        1      86      95      1624      1694       1618       1700   \n",
       "\n",
       "   prob1  is_home1  \n",
       "0  0.718         1  \n",
       "1  0.282         0  \n",
       "2  0.476         0  \n",
       "3  0.524         1  \n",
       "4  0.399         0  \n",
       "5  0.601         1  \n",
       "6  0.763         1  \n",
       "7  0.237         0  \n",
       "8  0.747         1  \n",
       "9  0.253         0  "
      ]
     },
     "execution_count": 14,
     "metadata": {},
     "output_type": "execute_result"
    }
   ],
   "source": [
    "df[0:10]"
   ]
  },
  {
   "cell_type": "markdown",
   "id": "5cfa67de-4bdd-416a-99b3-af7e5c8e3eb8",
   "metadata": {},
   "source": [
    "<br>Because this indexing is referencing the position of the row in the DataFrame, not the index number, we an use negative indexing in either spot to count from the bottom of the DataFrame."
   ]
  },
  {
   "cell_type": "code",
   "execution_count": 15,
   "id": "cef717f4-5ddc-438b-811b-058b2ba89f63",
   "metadata": {},
   "outputs": [
    {
     "data": {
      "text/html": [
       "<div>\n",
       "<style scoped>\n",
       "    .dataframe tbody tr th:only-of-type {\n",
       "        vertical-align: middle;\n",
       "    }\n",
       "\n",
       "    .dataframe tbody tr th {\n",
       "        vertical-align: top;\n",
       "    }\n",
       "\n",
       "    .dataframe thead th {\n",
       "        text-align: right;\n",
       "    }\n",
       "</style>\n",
       "<table border=\"1\" class=\"dataframe\">\n",
       "  <thead>\n",
       "    <tr style=\"text-align: right;\">\n",
       "      <th></th>\n",
       "      <th>season</th>\n",
       "      <th>date</th>\n",
       "      <th>team1</th>\n",
       "      <th>team2</th>\n",
       "      <th>name1</th>\n",
       "      <th>name2</th>\n",
       "      <th>neutral</th>\n",
       "      <th>playoff</th>\n",
       "      <th>score1</th>\n",
       "      <th>score2</th>\n",
       "      <th>elo1_pre</th>\n",
       "      <th>elo2_pre</th>\n",
       "      <th>elo1_post</th>\n",
       "      <th>elo2_post</th>\n",
       "      <th>prob1</th>\n",
       "      <th>is_home1</th>\n",
       "    </tr>\n",
       "  </thead>\n",
       "  <tbody>\n",
       "    <tr>\n",
       "      <th>495</th>\n",
       "      <td>2018</td>\n",
       "      <td>8/17/2018</td>\n",
       "      <td>DAL</td>\n",
       "      <td>LVA</td>\n",
       "      <td>Dallas Wings</td>\n",
       "      <td>Las Vegas Aces</td>\n",
       "      <td>0</td>\n",
       "      <td>0</td>\n",
       "      <td>107</td>\n",
       "      <td>102</td>\n",
       "      <td>1461</td>\n",
       "      <td>1458</td>\n",
       "      <td>1468</td>\n",
       "      <td>1451</td>\n",
       "      <td>0.618</td>\n",
       "      <td>1</td>\n",
       "    </tr>\n",
       "    <tr>\n",
       "      <th>496</th>\n",
       "      <td>2018</td>\n",
       "      <td>8/17/2018</td>\n",
       "      <td>LVA</td>\n",
       "      <td>DAL</td>\n",
       "      <td>Las Vegas Aces</td>\n",
       "      <td>Dallas Wings</td>\n",
       "      <td>0</td>\n",
       "      <td>0</td>\n",
       "      <td>102</td>\n",
       "      <td>107</td>\n",
       "      <td>1458</td>\n",
       "      <td>1461</td>\n",
       "      <td>1451</td>\n",
       "      <td>1468</td>\n",
       "      <td>0.382</td>\n",
       "      <td>0</td>\n",
       "    </tr>\n",
       "    <tr>\n",
       "      <th>497</th>\n",
       "      <td>2018</td>\n",
       "      <td>8/17/2018</td>\n",
       "      <td>NYL</td>\n",
       "      <td>SEA</td>\n",
       "      <td>New York Liberty</td>\n",
       "      <td>Seattle Storm</td>\n",
       "      <td>0</td>\n",
       "      <td>0</td>\n",
       "      <td>77</td>\n",
       "      <td>85</td>\n",
       "      <td>1328</td>\n",
       "      <td>1653</td>\n",
       "      <td>1326</td>\n",
       "      <td>1655</td>\n",
       "      <td>0.088</td>\n",
       "      <td>0</td>\n",
       "    </tr>\n",
       "    <tr>\n",
       "      <th>498</th>\n",
       "      <td>2018</td>\n",
       "      <td>8/15/2018</td>\n",
       "      <td>WAS</td>\n",
       "      <td>IND</td>\n",
       "      <td>Washington Mystics</td>\n",
       "      <td>Indiana Fever</td>\n",
       "      <td>0</td>\n",
       "      <td>0</td>\n",
       "      <td>76</td>\n",
       "      <td>62</td>\n",
       "      <td>1591</td>\n",
       "      <td>1330</td>\n",
       "      <td>1599</td>\n",
       "      <td>1322</td>\n",
       "      <td>0.740</td>\n",
       "      <td>0</td>\n",
       "    </tr>\n",
       "    <tr>\n",
       "      <th>499</th>\n",
       "      <td>2018</td>\n",
       "      <td>8/15/2018</td>\n",
       "      <td>LVA</td>\n",
       "      <td>NYL</td>\n",
       "      <td>Las Vegas Aces</td>\n",
       "      <td>New York Liberty</td>\n",
       "      <td>0</td>\n",
       "      <td>0</td>\n",
       "      <td>85</td>\n",
       "      <td>72</td>\n",
       "      <td>1451</td>\n",
       "      <td>1335</td>\n",
       "      <td>1458</td>\n",
       "      <td>1328</td>\n",
       "      <td>0.755</td>\n",
       "      <td>1</td>\n",
       "    </tr>\n",
       "    <tr>\n",
       "      <th>...</th>\n",
       "      <td>...</td>\n",
       "      <td>...</td>\n",
       "      <td>...</td>\n",
       "      <td>...</td>\n",
       "      <td>...</td>\n",
       "      <td>...</td>\n",
       "      <td>...</td>\n",
       "      <td>...</td>\n",
       "      <td>...</td>\n",
       "      <td>...</td>\n",
       "      <td>...</td>\n",
       "      <td>...</td>\n",
       "      <td>...</td>\n",
       "      <td>...</td>\n",
       "      <td>...</td>\n",
       "      <td>...</td>\n",
       "    </tr>\n",
       "    <tr>\n",
       "      <th>10471</th>\n",
       "      <td>1997</td>\n",
       "      <td>6/26/1997</td>\n",
       "      <td>CHA</td>\n",
       "      <td>SAC</td>\n",
       "      <td>Charlotte Sting</td>\n",
       "      <td>Sacramento Monarchs</td>\n",
       "      <td>0</td>\n",
       "      <td>0</td>\n",
       "      <td>70</td>\n",
       "      <td>78</td>\n",
       "      <td>1467</td>\n",
       "      <td>1501</td>\n",
       "      <td>1459</td>\n",
       "      <td>1509</td>\n",
       "      <td>0.342</td>\n",
       "      <td>0</td>\n",
       "    </tr>\n",
       "    <tr>\n",
       "      <th>10472</th>\n",
       "      <td>1997</td>\n",
       "      <td>6/25/1997</td>\n",
       "      <td>LAS</td>\n",
       "      <td>CHA</td>\n",
       "      <td>Los Angeles Sparks</td>\n",
       "      <td>Charlotte Sting</td>\n",
       "      <td>0</td>\n",
       "      <td>0</td>\n",
       "      <td>74</td>\n",
       "      <td>54</td>\n",
       "      <td>1468</td>\n",
       "      <td>1485</td>\n",
       "      <td>1486</td>\n",
       "      <td>1467</td>\n",
       "      <td>0.590</td>\n",
       "      <td>1</td>\n",
       "    </tr>\n",
       "    <tr>\n",
       "      <th>10473</th>\n",
       "      <td>1997</td>\n",
       "      <td>6/25/1997</td>\n",
       "      <td>CHA</td>\n",
       "      <td>LAS</td>\n",
       "      <td>Charlotte Sting</td>\n",
       "      <td>Los Angeles Sparks</td>\n",
       "      <td>0</td>\n",
       "      <td>0</td>\n",
       "      <td>54</td>\n",
       "      <td>74</td>\n",
       "      <td>1485</td>\n",
       "      <td>1468</td>\n",
       "      <td>1467</td>\n",
       "      <td>1486</td>\n",
       "      <td>0.410</td>\n",
       "      <td>0</td>\n",
       "    </tr>\n",
       "    <tr>\n",
       "      <th>10474</th>\n",
       "      <td>1997</td>\n",
       "      <td>6/24/1997</td>\n",
       "      <td>HOU</td>\n",
       "      <td>PHO</td>\n",
       "      <td>Houston Comets</td>\n",
       "      <td>Phoenix Mercury</td>\n",
       "      <td>0</td>\n",
       "      <td>0</td>\n",
       "      <td>72</td>\n",
       "      <td>55</td>\n",
       "      <td>1530</td>\n",
       "      <td>1515</td>\n",
       "      <td>1544</td>\n",
       "      <td>1501</td>\n",
       "      <td>0.634</td>\n",
       "      <td>1</td>\n",
       "    </tr>\n",
       "    <tr>\n",
       "      <th>10475</th>\n",
       "      <td>1997</td>\n",
       "      <td>6/24/1997</td>\n",
       "      <td>PHO</td>\n",
       "      <td>HOU</td>\n",
       "      <td>Phoenix Mercury</td>\n",
       "      <td>Houston Comets</td>\n",
       "      <td>0</td>\n",
       "      <td>0</td>\n",
       "      <td>55</td>\n",
       "      <td>72</td>\n",
       "      <td>1515</td>\n",
       "      <td>1530</td>\n",
       "      <td>1501</td>\n",
       "      <td>1544</td>\n",
       "      <td>0.366</td>\n",
       "      <td>0</td>\n",
       "    </tr>\n",
       "  </tbody>\n",
       "</table>\n",
       "<p>9981 rows × 16 columns</p>\n",
       "</div>"
      ],
      "text/plain": [
       "       season       date team1 team2               name1                name2  \\\n",
       "495      2018  8/17/2018   DAL   LVA        Dallas Wings       Las Vegas Aces   \n",
       "496      2018  8/17/2018   LVA   DAL      Las Vegas Aces         Dallas Wings   \n",
       "497      2018  8/17/2018   NYL   SEA    New York Liberty        Seattle Storm   \n",
       "498      2018  8/15/2018   WAS   IND  Washington Mystics        Indiana Fever   \n",
       "499      2018  8/15/2018   LVA   NYL      Las Vegas Aces     New York Liberty   \n",
       "...       ...        ...   ...   ...                 ...                  ...   \n",
       "10471    1997  6/26/1997   CHA   SAC     Charlotte Sting  Sacramento Monarchs   \n",
       "10472    1997  6/25/1997   LAS   CHA  Los Angeles Sparks      Charlotte Sting   \n",
       "10473    1997  6/25/1997   CHA   LAS     Charlotte Sting   Los Angeles Sparks   \n",
       "10474    1997  6/24/1997   HOU   PHO      Houston Comets      Phoenix Mercury   \n",
       "10475    1997  6/24/1997   PHO   HOU     Phoenix Mercury       Houston Comets   \n",
       "\n",
       "       neutral  playoff  score1  score2  elo1_pre  elo2_pre  elo1_post  \\\n",
       "495          0        0     107     102      1461      1458       1468   \n",
       "496          0        0     102     107      1458      1461       1451   \n",
       "497          0        0      77      85      1328      1653       1326   \n",
       "498          0        0      76      62      1591      1330       1599   \n",
       "499          0        0      85      72      1451      1335       1458   \n",
       "...        ...      ...     ...     ...       ...       ...        ...   \n",
       "10471        0        0      70      78      1467      1501       1459   \n",
       "10472        0        0      74      54      1468      1485       1486   \n",
       "10473        0        0      54      74      1485      1468       1467   \n",
       "10474        0        0      72      55      1530      1515       1544   \n",
       "10475        0        0      55      72      1515      1530       1501   \n",
       "\n",
       "       elo2_post  prob1  is_home1  \n",
       "495         1451  0.618         1  \n",
       "496         1468  0.382         0  \n",
       "497         1655  0.088         0  \n",
       "498         1322  0.740         0  \n",
       "499         1328  0.755         1  \n",
       "...          ...    ...       ...  \n",
       "10471       1509  0.342         0  \n",
       "10472       1467  0.590         1  \n",
       "10473       1486  0.410         0  \n",
       "10474       1501  0.634         1  \n",
       "10475       1544  0.366         0  \n",
       "\n",
       "[9981 rows x 16 columns]"
      ]
     },
     "execution_count": 15,
     "metadata": {},
     "output_type": "execute_result"
    }
   ],
   "source": [
    "df[495:-12]"
   ]
  },
  {
   "cell_type": "markdown",
   "id": "5b9f70e2-56a4-4945-9f06-ea6fd0e596c1",
   "metadata": {},
   "source": [
    "<br>If you only want a single row, you still need to use indexing with a `:`:"
   ]
  },
  {
   "cell_type": "code",
   "execution_count": 16,
   "id": "ad47fd6f-2dea-4762-b0ff-fffd94d64836",
   "metadata": {},
   "outputs": [
    {
     "data": {
      "text/html": [
       "<div>\n",
       "<style scoped>\n",
       "    .dataframe tbody tr th:only-of-type {\n",
       "        vertical-align: middle;\n",
       "    }\n",
       "\n",
       "    .dataframe tbody tr th {\n",
       "        vertical-align: top;\n",
       "    }\n",
       "\n",
       "    .dataframe thead th {\n",
       "        text-align: right;\n",
       "    }\n",
       "</style>\n",
       "<table border=\"1\" class=\"dataframe\">\n",
       "  <thead>\n",
       "    <tr style=\"text-align: right;\">\n",
       "      <th></th>\n",
       "      <th>season</th>\n",
       "      <th>date</th>\n",
       "      <th>team1</th>\n",
       "      <th>team2</th>\n",
       "      <th>name1</th>\n",
       "      <th>name2</th>\n",
       "      <th>neutral</th>\n",
       "      <th>playoff</th>\n",
       "      <th>score1</th>\n",
       "      <th>score2</th>\n",
       "      <th>elo1_pre</th>\n",
       "      <th>elo2_pre</th>\n",
       "      <th>elo1_post</th>\n",
       "      <th>elo2_post</th>\n",
       "      <th>prob1</th>\n",
       "      <th>is_home1</th>\n",
       "    </tr>\n",
       "  </thead>\n",
       "  <tbody>\n",
       "    <tr>\n",
       "      <th>4</th>\n",
       "      <td>2019</td>\n",
       "      <td>10/6/2019</td>\n",
       "      <td>WAS</td>\n",
       "      <td>CON</td>\n",
       "      <td>Washington Mystics</td>\n",
       "      <td>Connecticut Sun</td>\n",
       "      <td>0</td>\n",
       "      <td>1</td>\n",
       "      <td>94</td>\n",
       "      <td>81</td>\n",
       "      <td>1671</td>\n",
       "      <td>1648</td>\n",
       "      <td>1693</td>\n",
       "      <td>1626</td>\n",
       "      <td>0.399</td>\n",
       "      <td>0</td>\n",
       "    </tr>\n",
       "  </tbody>\n",
       "</table>\n",
       "</div>"
      ],
      "text/plain": [
       "   season       date team1 team2               name1            name2  \\\n",
       "4    2019  10/6/2019   WAS   CON  Washington Mystics  Connecticut Sun   \n",
       "\n",
       "   neutral  playoff  score1  score2  elo1_pre  elo2_pre  elo1_post  elo2_post  \\\n",
       "4        0        1      94      81      1671      1648       1693       1626   \n",
       "\n",
       "   prob1  is_home1  \n",
       "4  0.399         0  "
      ]
     },
     "execution_count": 16,
     "metadata": {},
     "output_type": "execute_result"
    }
   ],
   "source": [
    "df[4:5]"
   ]
  },
  {
   "cell_type": "markdown",
   "id": "d27334aa-d936-4123-ac13-7a985976295b",
   "metadata": {},
   "source": [
    "### <br><br>Exercise 3"
   ]
  },
  {
   "cell_type": "markdown",
   "id": "90eeeafb-0366-414a-b633-f887f56eb866",
   "metadata": {},
   "source": [
    "Write code to return row number 9,999."
   ]
  },
  {
   "cell_type": "code",
   "execution_count": null,
   "id": "c63c905b-4bc9-4b36-9cbb-3c3e6625b38a",
   "metadata": {},
   "outputs": [],
   "source": []
  },
  {
   "cell_type": "markdown",
   "id": "36103e8a-7d69-460e-9e87-3dbbba4cf4b3",
   "metadata": {},
   "source": [
    "Write code to return the second row in our DataFrame."
   ]
  },
  {
   "cell_type": "code",
   "execution_count": null,
   "id": "1b67e7fc-578c-4cc3-8ac5-2e11d9c36371",
   "metadata": {},
   "outputs": [],
   "source": []
  },
  {
   "cell_type": "markdown",
   "id": "0cf3ac94-32d3-4a58-b03e-7a9d6fcdfe58",
   "metadata": {},
   "source": [
    "### <br><br><br>Selecting data with a boolean"
   ]
  },
  {
   "cell_type": "markdown",
   "id": "f9deec47-f6c9-4958-8456-5c6f1b531146",
   "metadata": {},
   "source": [
    "To return a DataFrame that only has rows that meet a certain condition, we use this syntax. The outer `df[]` lets Python know that you want the answer to be returned as a DataFrame, meaning you can return all the columns included in the output. Inside the indexing, we include our boolean statement, which usually means we need to index a particular column in the dataset to filter the data on."
   ]
  },
  {
   "cell_type": "code",
   "execution_count": 17,
   "id": "aa426ded-096c-4d2f-9394-f45c8db13862",
   "metadata": {},
   "outputs": [
    {
     "data": {
      "text/html": [
       "<div>\n",
       "<style scoped>\n",
       "    .dataframe tbody tr th:only-of-type {\n",
       "        vertical-align: middle;\n",
       "    }\n",
       "\n",
       "    .dataframe tbody tr th {\n",
       "        vertical-align: top;\n",
       "    }\n",
       "\n",
       "    .dataframe thead th {\n",
       "        text-align: right;\n",
       "    }\n",
       "</style>\n",
       "<table border=\"1\" class=\"dataframe\">\n",
       "  <thead>\n",
       "    <tr style=\"text-align: right;\">\n",
       "      <th></th>\n",
       "      <th>season</th>\n",
       "      <th>date</th>\n",
       "      <th>team1</th>\n",
       "      <th>team2</th>\n",
       "      <th>name1</th>\n",
       "      <th>name2</th>\n",
       "      <th>neutral</th>\n",
       "      <th>playoff</th>\n",
       "      <th>score1</th>\n",
       "      <th>score2</th>\n",
       "      <th>elo1_pre</th>\n",
       "      <th>elo2_pre</th>\n",
       "      <th>elo1_post</th>\n",
       "      <th>elo2_post</th>\n",
       "      <th>prob1</th>\n",
       "      <th>is_home1</th>\n",
       "    </tr>\n",
       "  </thead>\n",
       "  <tbody>\n",
       "    <tr>\n",
       "      <th>11</th>\n",
       "      <td>2019</td>\n",
       "      <td>9/24/2019</td>\n",
       "      <td>LVA</td>\n",
       "      <td>WAS</td>\n",
       "      <td>Las Vegas Aces</td>\n",
       "      <td>Washington Mystics</td>\n",
       "      <td>0</td>\n",
       "      <td>1</td>\n",
       "      <td>90</td>\n",
       "      <td>94</td>\n",
       "      <td>1570</td>\n",
       "      <td>1687</td>\n",
       "      <td>1563</td>\n",
       "      <td>1694</td>\n",
       "      <td>0.434</td>\n",
       "      <td>1</td>\n",
       "    </tr>\n",
       "    <tr>\n",
       "      <th>14</th>\n",
       "      <td>2019</td>\n",
       "      <td>9/22/2019</td>\n",
       "      <td>LVA</td>\n",
       "      <td>WAS</td>\n",
       "      <td>Las Vegas Aces</td>\n",
       "      <td>Washington Mystics</td>\n",
       "      <td>0</td>\n",
       "      <td>1</td>\n",
       "      <td>92</td>\n",
       "      <td>75</td>\n",
       "      <td>1540</td>\n",
       "      <td>1717</td>\n",
       "      <td>1570</td>\n",
       "      <td>1687</td>\n",
       "      <td>0.331</td>\n",
       "      <td>1</td>\n",
       "    </tr>\n",
       "    <tr>\n",
       "      <th>19</th>\n",
       "      <td>2019</td>\n",
       "      <td>9/19/2019</td>\n",
       "      <td>LVA</td>\n",
       "      <td>WAS</td>\n",
       "      <td>Las Vegas Aces</td>\n",
       "      <td>Washington Mystics</td>\n",
       "      <td>0</td>\n",
       "      <td>1</td>\n",
       "      <td>91</td>\n",
       "      <td>103</td>\n",
       "      <td>1543</td>\n",
       "      <td>1714</td>\n",
       "      <td>1540</td>\n",
       "      <td>1717</td>\n",
       "      <td>0.142</td>\n",
       "      <td>0</td>\n",
       "    </tr>\n",
       "    <tr>\n",
       "      <th>23</th>\n",
       "      <td>2019</td>\n",
       "      <td>9/17/2019</td>\n",
       "      <td>LVA</td>\n",
       "      <td>WAS</td>\n",
       "      <td>Las Vegas Aces</td>\n",
       "      <td>Washington Mystics</td>\n",
       "      <td>0</td>\n",
       "      <td>1</td>\n",
       "      <td>95</td>\n",
       "      <td>97</td>\n",
       "      <td>1545</td>\n",
       "      <td>1712</td>\n",
       "      <td>1543</td>\n",
       "      <td>1714</td>\n",
       "      <td>0.144</td>\n",
       "      <td>0</td>\n",
       "    </tr>\n",
       "    <tr>\n",
       "      <th>26</th>\n",
       "      <td>2019</td>\n",
       "      <td>9/15/2019</td>\n",
       "      <td>LVA</td>\n",
       "      <td>CHI</td>\n",
       "      <td>Las Vegas Aces</td>\n",
       "      <td>Chicago Sky</td>\n",
       "      <td>0</td>\n",
       "      <td>1</td>\n",
       "      <td>93</td>\n",
       "      <td>92</td>\n",
       "      <td>1541</td>\n",
       "      <td>1564</td>\n",
       "      <td>1545</td>\n",
       "      <td>1559</td>\n",
       "      <td>0.601</td>\n",
       "      <td>1</td>\n",
       "    </tr>\n",
       "    <tr>\n",
       "      <th>...</th>\n",
       "      <td>...</td>\n",
       "      <td>...</td>\n",
       "      <td>...</td>\n",
       "      <td>...</td>\n",
       "      <td>...</td>\n",
       "      <td>...</td>\n",
       "      <td>...</td>\n",
       "      <td>...</td>\n",
       "      <td>...</td>\n",
       "      <td>...</td>\n",
       "      <td>...</td>\n",
       "      <td>...</td>\n",
       "      <td>...</td>\n",
       "      <td>...</td>\n",
       "      <td>...</td>\n",
       "      <td>...</td>\n",
       "    </tr>\n",
       "    <tr>\n",
       "      <th>10453</th>\n",
       "      <td>1997</td>\n",
       "      <td>7/2/1997</td>\n",
       "      <td>LVA</td>\n",
       "      <td>SAC</td>\n",
       "      <td>Utah Starzz</td>\n",
       "      <td>Sacramento Monarchs</td>\n",
       "      <td>0</td>\n",
       "      <td>0</td>\n",
       "      <td>73</td>\n",
       "      <td>68</td>\n",
       "      <td>1456</td>\n",
       "      <td>1497</td>\n",
       "      <td>1470</td>\n",
       "      <td>1483</td>\n",
       "      <td>0.332</td>\n",
       "      <td>0</td>\n",
       "    </tr>\n",
       "    <tr>\n",
       "      <th>10463</th>\n",
       "      <td>1997</td>\n",
       "      <td>6/28/1997</td>\n",
       "      <td>LVA</td>\n",
       "      <td>HOU</td>\n",
       "      <td>Utah Starzz</td>\n",
       "      <td>Houston Comets</td>\n",
       "      <td>0</td>\n",
       "      <td>0</td>\n",
       "      <td>58</td>\n",
       "      <td>76</td>\n",
       "      <td>1479</td>\n",
       "      <td>1535</td>\n",
       "      <td>1456</td>\n",
       "      <td>1558</td>\n",
       "      <td>0.534</td>\n",
       "      <td>1</td>\n",
       "    </tr>\n",
       "    <tr>\n",
       "      <th>10470</th>\n",
       "      <td>1997</td>\n",
       "      <td>6/26/1997</td>\n",
       "      <td>LVA</td>\n",
       "      <td>CLE</td>\n",
       "      <td>Utah Starzz</td>\n",
       "      <td>Cleveland Rockers</td>\n",
       "      <td>0</td>\n",
       "      <td>0</td>\n",
       "      <td>63</td>\n",
       "      <td>74</td>\n",
       "      <td>1491</td>\n",
       "      <td>1470</td>\n",
       "      <td>1479</td>\n",
       "      <td>1482</td>\n",
       "      <td>0.416</td>\n",
       "      <td>0</td>\n",
       "    </tr>\n",
       "    <tr>\n",
       "      <th>10478</th>\n",
       "      <td>1997</td>\n",
       "      <td>6/23/1997</td>\n",
       "      <td>LVA</td>\n",
       "      <td>LAS</td>\n",
       "      <td>Utah Starzz</td>\n",
       "      <td>Los Angeles Sparks</td>\n",
       "      <td>0</td>\n",
       "      <td>0</td>\n",
       "      <td>102</td>\n",
       "      <td>89</td>\n",
       "      <td>1479</td>\n",
       "      <td>1481</td>\n",
       "      <td>1491</td>\n",
       "      <td>1468</td>\n",
       "      <td>0.610</td>\n",
       "      <td>1</td>\n",
       "    </tr>\n",
       "    <tr>\n",
       "      <th>10486</th>\n",
       "      <td>1997</td>\n",
       "      <td>6/21/1997</td>\n",
       "      <td>LVA</td>\n",
       "      <td>SAC</td>\n",
       "      <td>Utah Starzz</td>\n",
       "      <td>Sacramento Monarchs</td>\n",
       "      <td>0</td>\n",
       "      <td>0</td>\n",
       "      <td>61</td>\n",
       "      <td>73</td>\n",
       "      <td>1500</td>\n",
       "      <td>1500</td>\n",
       "      <td>1479</td>\n",
       "      <td>1521</td>\n",
       "      <td>0.613</td>\n",
       "      <td>1</td>\n",
       "    </tr>\n",
       "  </tbody>\n",
       "</table>\n",
       "<p>802 rows × 16 columns</p>\n",
       "</div>"
      ],
      "text/plain": [
       "       season       date team1 team2           name1                name2  \\\n",
       "11       2019  9/24/2019   LVA   WAS  Las Vegas Aces   Washington Mystics   \n",
       "14       2019  9/22/2019   LVA   WAS  Las Vegas Aces   Washington Mystics   \n",
       "19       2019  9/19/2019   LVA   WAS  Las Vegas Aces   Washington Mystics   \n",
       "23       2019  9/17/2019   LVA   WAS  Las Vegas Aces   Washington Mystics   \n",
       "26       2019  9/15/2019   LVA   CHI  Las Vegas Aces          Chicago Sky   \n",
       "...       ...        ...   ...   ...             ...                  ...   \n",
       "10453    1997   7/2/1997   LVA   SAC     Utah Starzz  Sacramento Monarchs   \n",
       "10463    1997  6/28/1997   LVA   HOU     Utah Starzz       Houston Comets   \n",
       "10470    1997  6/26/1997   LVA   CLE     Utah Starzz    Cleveland Rockers   \n",
       "10478    1997  6/23/1997   LVA   LAS     Utah Starzz   Los Angeles Sparks   \n",
       "10486    1997  6/21/1997   LVA   SAC     Utah Starzz  Sacramento Monarchs   \n",
       "\n",
       "       neutral  playoff  score1  score2  elo1_pre  elo2_pre  elo1_post  \\\n",
       "11           0        1      90      94      1570      1687       1563   \n",
       "14           0        1      92      75      1540      1717       1570   \n",
       "19           0        1      91     103      1543      1714       1540   \n",
       "23           0        1      95      97      1545      1712       1543   \n",
       "26           0        1      93      92      1541      1564       1545   \n",
       "...        ...      ...     ...     ...       ...       ...        ...   \n",
       "10453        0        0      73      68      1456      1497       1470   \n",
       "10463        0        0      58      76      1479      1535       1456   \n",
       "10470        0        0      63      74      1491      1470       1479   \n",
       "10478        0        0     102      89      1479      1481       1491   \n",
       "10486        0        0      61      73      1500      1500       1479   \n",
       "\n",
       "       elo2_post  prob1  is_home1  \n",
       "11          1694  0.434         1  \n",
       "14          1687  0.331         1  \n",
       "19          1717  0.142         0  \n",
       "23          1714  0.144         0  \n",
       "26          1559  0.601         1  \n",
       "...          ...    ...       ...  \n",
       "10453       1483  0.332         0  \n",
       "10463       1558  0.534         1  \n",
       "10470       1482  0.416         0  \n",
       "10478       1468  0.610         1  \n",
       "10486       1521  0.613         1  \n",
       "\n",
       "[802 rows x 16 columns]"
      ]
     },
     "execution_count": 17,
     "metadata": {},
     "output_type": "execute_result"
    }
   ],
   "source": [
    "df[df[\"team1\"] == \"LVA\"]"
   ]
  },
  {
   "cell_type": "code",
   "execution_count": 18,
   "id": "68c02143-ef3b-4647-bc58-2fb9c45e56e0",
   "metadata": {},
   "outputs": [
    {
     "data": {
      "text/html": [
       "<div>\n",
       "<style scoped>\n",
       "    .dataframe tbody tr th:only-of-type {\n",
       "        vertical-align: middle;\n",
       "    }\n",
       "\n",
       "    .dataframe tbody tr th {\n",
       "        vertical-align: top;\n",
       "    }\n",
       "\n",
       "    .dataframe thead th {\n",
       "        text-align: right;\n",
       "    }\n",
       "</style>\n",
       "<table border=\"1\" class=\"dataframe\">\n",
       "  <thead>\n",
       "    <tr style=\"text-align: right;\">\n",
       "      <th></th>\n",
       "      <th>season</th>\n",
       "      <th>date</th>\n",
       "      <th>team1</th>\n",
       "      <th>team2</th>\n",
       "      <th>name1</th>\n",
       "      <th>name2</th>\n",
       "      <th>neutral</th>\n",
       "      <th>playoff</th>\n",
       "      <th>score1</th>\n",
       "      <th>score2</th>\n",
       "      <th>elo1_pre</th>\n",
       "      <th>elo2_pre</th>\n",
       "      <th>elo1_post</th>\n",
       "      <th>elo2_post</th>\n",
       "      <th>prob1</th>\n",
       "      <th>is_home1</th>\n",
       "    </tr>\n",
       "  </thead>\n",
       "  <tbody>\n",
       "    <tr>\n",
       "      <th>16</th>\n",
       "      <td>2019</td>\n",
       "      <td>9/19/2019</td>\n",
       "      <td>WAS</td>\n",
       "      <td>LVA</td>\n",
       "      <td>Washington Mystics</td>\n",
       "      <td>Las Vegas Aces</td>\n",
       "      <td>0</td>\n",
       "      <td>1</td>\n",
       "      <td>103</td>\n",
       "      <td>91</td>\n",
       "      <td>1714</td>\n",
       "      <td>1543</td>\n",
       "      <td>1717</td>\n",
       "      <td>1540</td>\n",
       "      <td>0.858</td>\n",
       "      <td>1</td>\n",
       "    </tr>\n",
       "    <tr>\n",
       "      <th>28</th>\n",
       "      <td>2019</td>\n",
       "      <td>9/11/2019</td>\n",
       "      <td>CHI</td>\n",
       "      <td>PHO</td>\n",
       "      <td>Chicago Sky</td>\n",
       "      <td>Phoenix Mercury</td>\n",
       "      <td>0</td>\n",
       "      <td>1</td>\n",
       "      <td>105</td>\n",
       "      <td>76</td>\n",
       "      <td>1553</td>\n",
       "      <td>1450</td>\n",
       "      <td>1564</td>\n",
       "      <td>1440</td>\n",
       "      <td>0.788</td>\n",
       "      <td>1</td>\n",
       "    </tr>\n",
       "    <tr>\n",
       "      <th>39</th>\n",
       "      <td>2019</td>\n",
       "      <td>9/8/2019</td>\n",
       "      <td>IND</td>\n",
       "      <td>CON</td>\n",
       "      <td>Indiana Fever</td>\n",
       "      <td>Connecticut Sun</td>\n",
       "      <td>0</td>\n",
       "      <td>0</td>\n",
       "      <td>104</td>\n",
       "      <td>76</td>\n",
       "      <td>1424</td>\n",
       "      <td>1599</td>\n",
       "      <td>1464</td>\n",
       "      <td>1559</td>\n",
       "      <td>0.367</td>\n",
       "      <td>1</td>\n",
       "    </tr>\n",
       "    <tr>\n",
       "      <th>45</th>\n",
       "      <td>2019</td>\n",
       "      <td>9/6/2019</td>\n",
       "      <td>CON</td>\n",
       "      <td>CHI</td>\n",
       "      <td>Connecticut Sun</td>\n",
       "      <td>Chicago Sky</td>\n",
       "      <td>0</td>\n",
       "      <td>0</td>\n",
       "      <td>104</td>\n",
       "      <td>109</td>\n",
       "      <td>1615</td>\n",
       "      <td>1543</td>\n",
       "      <td>1599</td>\n",
       "      <td>1559</td>\n",
       "      <td>0.705</td>\n",
       "      <td>1</td>\n",
       "    </tr>\n",
       "    <tr>\n",
       "      <th>47</th>\n",
       "      <td>2019</td>\n",
       "      <td>9/6/2019</td>\n",
       "      <td>CHI</td>\n",
       "      <td>CON</td>\n",
       "      <td>Chicago Sky</td>\n",
       "      <td>Connecticut Sun</td>\n",
       "      <td>0</td>\n",
       "      <td>0</td>\n",
       "      <td>109</td>\n",
       "      <td>104</td>\n",
       "      <td>1543</td>\n",
       "      <td>1615</td>\n",
       "      <td>1559</td>\n",
       "      <td>1599</td>\n",
       "      <td>0.295</td>\n",
       "      <td>0</td>\n",
       "    </tr>\n",
       "    <tr>\n",
       "      <th>...</th>\n",
       "      <td>...</td>\n",
       "      <td>...</td>\n",
       "      <td>...</td>\n",
       "      <td>...</td>\n",
       "      <td>...</td>\n",
       "      <td>...</td>\n",
       "      <td>...</td>\n",
       "      <td>...</td>\n",
       "      <td>...</td>\n",
       "      <td>...</td>\n",
       "      <td>...</td>\n",
       "      <td>...</td>\n",
       "      <td>...</td>\n",
       "      <td>...</td>\n",
       "      <td>...</td>\n",
       "      <td>...</td>\n",
       "    </tr>\n",
       "    <tr>\n",
       "      <th>9872</th>\n",
       "      <td>1999</td>\n",
       "      <td>6/24/1999</td>\n",
       "      <td>SAC</td>\n",
       "      <td>LVA</td>\n",
       "      <td>Sacramento Monarchs</td>\n",
       "      <td>Utah Starzz</td>\n",
       "      <td>0</td>\n",
       "      <td>0</td>\n",
       "      <td>107</td>\n",
       "      <td>69</td>\n",
       "      <td>1465</td>\n",
       "      <td>1396</td>\n",
       "      <td>1484</td>\n",
       "      <td>1376</td>\n",
       "      <td>0.702</td>\n",
       "      <td>1</td>\n",
       "    </tr>\n",
       "    <tr>\n",
       "      <th>9961</th>\n",
       "      <td>1998</td>\n",
       "      <td>8/19/1998</td>\n",
       "      <td>CHA</td>\n",
       "      <td>WAS</td>\n",
       "      <td>Charlotte Sting</td>\n",
       "      <td>Washington Mystics</td>\n",
       "      <td>0</td>\n",
       "      <td>0</td>\n",
       "      <td>105</td>\n",
       "      <td>69</td>\n",
       "      <td>1460</td>\n",
       "      <td>1183</td>\n",
       "      <td>1475</td>\n",
       "      <td>1168</td>\n",
       "      <td>0.757</td>\n",
       "      <td>0</td>\n",
       "    </tr>\n",
       "    <tr>\n",
       "      <th>9966</th>\n",
       "      <td>1998</td>\n",
       "      <td>8/17/1998</td>\n",
       "      <td>HOU</td>\n",
       "      <td>WAS</td>\n",
       "      <td>Houston Comets</td>\n",
       "      <td>Washington Mystics</td>\n",
       "      <td>0</td>\n",
       "      <td>0</td>\n",
       "      <td>110</td>\n",
       "      <td>65</td>\n",
       "      <td>1695</td>\n",
       "      <td>1188</td>\n",
       "      <td>1700</td>\n",
       "      <td>1183</td>\n",
       "      <td>0.921</td>\n",
       "      <td>0</td>\n",
       "    </tr>\n",
       "    <tr>\n",
       "      <th>10464</th>\n",
       "      <td>1997</td>\n",
       "      <td>6/27/1997</td>\n",
       "      <td>LAS</td>\n",
       "      <td>SAC</td>\n",
       "      <td>Los Angeles Sparks</td>\n",
       "      <td>Sacramento Monarchs</td>\n",
       "      <td>0</td>\n",
       "      <td>0</td>\n",
       "      <td>102</td>\n",
       "      <td>92</td>\n",
       "      <td>1486</td>\n",
       "      <td>1509</td>\n",
       "      <td>1498</td>\n",
       "      <td>1497</td>\n",
       "      <td>0.582</td>\n",
       "      <td>1</td>\n",
       "    </tr>\n",
       "    <tr>\n",
       "      <th>10478</th>\n",
       "      <td>1997</td>\n",
       "      <td>6/23/1997</td>\n",
       "      <td>LVA</td>\n",
       "      <td>LAS</td>\n",
       "      <td>Utah Starzz</td>\n",
       "      <td>Los Angeles Sparks</td>\n",
       "      <td>0</td>\n",
       "      <td>0</td>\n",
       "      <td>102</td>\n",
       "      <td>89</td>\n",
       "      <td>1479</td>\n",
       "      <td>1481</td>\n",
       "      <td>1491</td>\n",
       "      <td>1468</td>\n",
       "      <td>0.610</td>\n",
       "      <td>1</td>\n",
       "    </tr>\n",
       "  </tbody>\n",
       "</table>\n",
       "<p>225 rows × 16 columns</p>\n",
       "</div>"
      ],
      "text/plain": [
       "       season       date team1 team2                name1  \\\n",
       "16       2019  9/19/2019   WAS   LVA   Washington Mystics   \n",
       "28       2019  9/11/2019   CHI   PHO          Chicago Sky   \n",
       "39       2019   9/8/2019   IND   CON        Indiana Fever   \n",
       "45       2019   9/6/2019   CON   CHI      Connecticut Sun   \n",
       "47       2019   9/6/2019   CHI   CON          Chicago Sky   \n",
       "...       ...        ...   ...   ...                  ...   \n",
       "9872     1999  6/24/1999   SAC   LVA  Sacramento Monarchs   \n",
       "9961     1998  8/19/1998   CHA   WAS      Charlotte Sting   \n",
       "9966     1998  8/17/1998   HOU   WAS       Houston Comets   \n",
       "10464    1997  6/27/1997   LAS   SAC   Los Angeles Sparks   \n",
       "10478    1997  6/23/1997   LVA   LAS          Utah Starzz   \n",
       "\n",
       "                     name2  neutral  playoff  score1  score2  elo1_pre  \\\n",
       "16          Las Vegas Aces        0        1     103      91      1714   \n",
       "28         Phoenix Mercury        0        1     105      76      1553   \n",
       "39         Connecticut Sun        0        0     104      76      1424   \n",
       "45             Chicago Sky        0        0     104     109      1615   \n",
       "47         Connecticut Sun        0        0     109     104      1543   \n",
       "...                    ...      ...      ...     ...     ...       ...   \n",
       "9872           Utah Starzz        0        0     107      69      1465   \n",
       "9961    Washington Mystics        0        0     105      69      1460   \n",
       "9966    Washington Mystics        0        0     110      65      1695   \n",
       "10464  Sacramento Monarchs        0        0     102      92      1486   \n",
       "10478   Los Angeles Sparks        0        0     102      89      1479   \n",
       "\n",
       "       elo2_pre  elo1_post  elo2_post  prob1  is_home1  \n",
       "16         1543       1717       1540  0.858         1  \n",
       "28         1450       1564       1440  0.788         1  \n",
       "39         1599       1464       1559  0.367         1  \n",
       "45         1543       1599       1559  0.705         1  \n",
       "47         1615       1559       1599  0.295         0  \n",
       "...         ...        ...        ...    ...       ...  \n",
       "9872       1396       1484       1376  0.702         1  \n",
       "9961       1183       1475       1168  0.757         0  \n",
       "9966       1188       1700       1183  0.921         0  \n",
       "10464      1509       1498       1497  0.582         1  \n",
       "10478      1481       1491       1468  0.610         1  \n",
       "\n",
       "[225 rows x 16 columns]"
      ]
     },
     "execution_count": 18,
     "metadata": {},
     "output_type": "execute_result"
    }
   ],
   "source": [
    "df[df[\"score1\"] > 100]"
   ]
  },
  {
   "cell_type": "markdown",
   "id": "aedd2629-3e98-4422-a32f-67b0c263cc55",
   "metadata": {},
   "source": [
    "### <br><br>Exercise 4"
   ]
  },
  {
   "cell_type": "markdown",
   "id": "af2cc041-098b-4e6a-8e45-b3722143d49b",
   "metadata": {},
   "source": [
    "Write code to return a DataFrame that only includes games that were playoff games (playoff games are coded as 1 in that column):"
   ]
  },
  {
   "cell_type": "code",
   "execution_count": null,
   "id": "192e4345-04e9-4fc2-a584-f00ce6d8fc9c",
   "metadata": {},
   "outputs": [],
   "source": []
  },
  {
   "cell_type": "markdown",
   "id": "a0ef879c-b911-46b0-b8c6-22bdac5171df",
   "metadata": {},
   "source": [
    "Write code to return a DataFrame that only includes games where score2 was greater than 100:"
   ]
  },
  {
   "cell_type": "code",
   "execution_count": null,
   "id": "72532c89-5377-4ee0-8e77-c6b11d88be24",
   "metadata": {},
   "outputs": [],
   "source": []
  },
  {
   "cell_type": "markdown",
   "id": "ba0c2480-3898-416c-ba70-0a1628a23896",
   "metadata": {},
   "source": [
    "<br><br><br>If you don't use the outer `df[]` the return is a Series object that returns the boolean value for each row based on the condition you set:"
   ]
  },
  {
   "cell_type": "code",
   "execution_count": 19,
   "id": "6e7a6d14-4419-4a0c-840e-3cc3c0d1db23",
   "metadata": {},
   "outputs": [
    {
     "data": {
      "text/plain": [
       "0        False\n",
       "1        False\n",
       "2        False\n",
       "3        False\n",
       "4        False\n",
       "         ...  \n",
       "10483    False\n",
       "10484    False\n",
       "10485    False\n",
       "10486     True\n",
       "10487    False\n",
       "Name: team1, Length: 10488, dtype: bool"
      ]
     },
     "execution_count": 19,
     "metadata": {},
     "output_type": "execute_result"
    }
   ],
   "source": [
    "df[\"team1\"] == \"LVA\""
   ]
  },
  {
   "cell_type": "markdown",
   "id": "872b1dc5-f88e-4aed-abf5-2c72853ecd6d",
   "metadata": {},
   "source": [
    "<br><br>You can also combine a boolean with column indexing to return only some columns for your filtered data. Here I am returning only the team2, socre1, and score2 columns for any rows with \"CHI\" in the team1 column."
   ]
  },
  {
   "cell_type": "code",
   "execution_count": 22,
   "id": "b7a0d120-2ca5-49ce-9b52-c97964f82f8d",
   "metadata": {},
   "outputs": [
    {
     "data": {
      "text/html": [
       "<div>\n",
       "<style scoped>\n",
       "    .dataframe tbody tr th:only-of-type {\n",
       "        vertical-align: middle;\n",
       "    }\n",
       "\n",
       "    .dataframe tbody tr th {\n",
       "        vertical-align: top;\n",
       "    }\n",
       "\n",
       "    .dataframe thead th {\n",
       "        text-align: right;\n",
       "    }\n",
       "</style>\n",
       "<table border=\"1\" class=\"dataframe\">\n",
       "  <thead>\n",
       "    <tr style=\"text-align: right;\">\n",
       "      <th></th>\n",
       "      <th>team2</th>\n",
       "      <th>score1</th>\n",
       "      <th>score2</th>\n",
       "    </tr>\n",
       "  </thead>\n",
       "  <tbody>\n",
       "    <tr>\n",
       "      <th>25</th>\n",
       "      <td>LVA</td>\n",
       "      <td>92</td>\n",
       "      <td>93</td>\n",
       "    </tr>\n",
       "    <tr>\n",
       "      <th>28</th>\n",
       "      <td>PHO</td>\n",
       "      <td>105</td>\n",
       "      <td>76</td>\n",
       "    </tr>\n",
       "    <tr>\n",
       "      <th>36</th>\n",
       "      <td>WAS</td>\n",
       "      <td>86</td>\n",
       "      <td>100</td>\n",
       "    </tr>\n",
       "    <tr>\n",
       "      <th>47</th>\n",
       "      <td>CON</td>\n",
       "      <td>109</td>\n",
       "      <td>104</td>\n",
       "    </tr>\n",
       "    <tr>\n",
       "      <th>65</th>\n",
       "      <td>PHO</td>\n",
       "      <td>105</td>\n",
       "      <td>78</td>\n",
       "    </tr>\n",
       "    <tr>\n",
       "      <th>...</th>\n",
       "      <td>...</td>\n",
       "      <td>...</td>\n",
       "      <td>...</td>\n",
       "    </tr>\n",
       "    <tr>\n",
       "      <th>6371</th>\n",
       "      <td>HOU</td>\n",
       "      <td>60</td>\n",
       "      <td>71</td>\n",
       "    </tr>\n",
       "    <tr>\n",
       "      <th>6387</th>\n",
       "      <td>LAS</td>\n",
       "      <td>55</td>\n",
       "      <td>64</td>\n",
       "    </tr>\n",
       "    <tr>\n",
       "      <th>6393</th>\n",
       "      <td>IND</td>\n",
       "      <td>60</td>\n",
       "      <td>75</td>\n",
       "    </tr>\n",
       "    <tr>\n",
       "      <th>6415</th>\n",
       "      <td>SAC</td>\n",
       "      <td>63</td>\n",
       "      <td>76</td>\n",
       "    </tr>\n",
       "    <tr>\n",
       "      <th>6427</th>\n",
       "      <td>CHA</td>\n",
       "      <td>83</td>\n",
       "      <td>82</td>\n",
       "    </tr>\n",
       "  </tbody>\n",
       "</table>\n",
       "<p>497 rows × 3 columns</p>\n",
       "</div>"
      ],
      "text/plain": [
       "     team2  score1  score2\n",
       "25     LVA      92      93\n",
       "28     PHO     105      76\n",
       "36     WAS      86     100\n",
       "47     CON     109     104\n",
       "65     PHO     105      78\n",
       "...    ...     ...     ...\n",
       "6371   HOU      60      71\n",
       "6387   LAS      55      64\n",
       "6393   IND      60      75\n",
       "6415   SAC      63      76\n",
       "6427   CHA      83      82\n",
       "\n",
       "[497 rows x 3 columns]"
      ]
     },
     "execution_count": 22,
     "metadata": {},
     "output_type": "execute_result"
    }
   ],
   "source": [
    "df[df[\"team1\"] == \"CHI\"][[\"team2\", \"score1\", \"score2\"]]"
   ]
  },
  {
   "cell_type": "markdown",
   "id": "79434cd4-f481-47e1-971d-ce96df30a72b",
   "metadata": {},
   "source": [
    "<br><br>**Using the indexing method, we cannot refer to individual rows by name or pull up individual cells in our DataFrame.**"
   ]
  },
  {
   "cell_type": "code",
   "execution_count": 23,
   "id": "e5982808-88ee-4c37-b568-1d2c2a8a510e",
   "metadata": {},
   "outputs": [
    {
     "ename": "KeyError",
     "evalue": "25",
     "output_type": "error",
     "traceback": [
      "\u001b[0;31m---------------------------------------------------------------------------\u001b[0m",
      "\u001b[0;31mKeyError\u001b[0m                                  Traceback (most recent call last)",
      "\u001b[0;32m~/anaconda3/lib/python3.8/site-packages/pandas/core/indexes/base.py\u001b[0m in \u001b[0;36mget_loc\u001b[0;34m(self, key, method, tolerance)\u001b[0m\n\u001b[1;32m   3360\u001b[0m             \u001b[0;32mtry\u001b[0m\u001b[0;34m:\u001b[0m\u001b[0;34m\u001b[0m\u001b[0;34m\u001b[0m\u001b[0m\n\u001b[0;32m-> 3361\u001b[0;31m                 \u001b[0;32mreturn\u001b[0m \u001b[0mself\u001b[0m\u001b[0;34m.\u001b[0m\u001b[0m_engine\u001b[0m\u001b[0;34m.\u001b[0m\u001b[0mget_loc\u001b[0m\u001b[0;34m(\u001b[0m\u001b[0mcasted_key\u001b[0m\u001b[0;34m)\u001b[0m\u001b[0;34m\u001b[0m\u001b[0;34m\u001b[0m\u001b[0m\n\u001b[0m\u001b[1;32m   3362\u001b[0m             \u001b[0;32mexcept\u001b[0m \u001b[0mKeyError\u001b[0m \u001b[0;32mas\u001b[0m \u001b[0merr\u001b[0m\u001b[0;34m:\u001b[0m\u001b[0;34m\u001b[0m\u001b[0;34m\u001b[0m\u001b[0m\n",
      "\u001b[0;32m~/anaconda3/lib/python3.8/site-packages/pandas/_libs/index.pyx\u001b[0m in \u001b[0;36mpandas._libs.index.IndexEngine.get_loc\u001b[0;34m()\u001b[0m\n",
      "\u001b[0;32m~/anaconda3/lib/python3.8/site-packages/pandas/_libs/index.pyx\u001b[0m in \u001b[0;36mpandas._libs.index.IndexEngine.get_loc\u001b[0;34m()\u001b[0m\n",
      "\u001b[0;32mpandas/_libs/hashtable_class_helper.pxi\u001b[0m in \u001b[0;36mpandas._libs.hashtable.PyObjectHashTable.get_item\u001b[0;34m()\u001b[0m\n",
      "\u001b[0;32mpandas/_libs/hashtable_class_helper.pxi\u001b[0m in \u001b[0;36mpandas._libs.hashtable.PyObjectHashTable.get_item\u001b[0;34m()\u001b[0m\n",
      "\u001b[0;31mKeyError\u001b[0m: 25",
      "\nThe above exception was the direct cause of the following exception:\n",
      "\u001b[0;31mKeyError\u001b[0m                                  Traceback (most recent call last)",
      "\u001b[0;32m/var/folders/0q/cqksr9q162s4_lvj5xz4q0s40000gn/T/ipykernel_88827/3134461337.py\u001b[0m in \u001b[0;36m<module>\u001b[0;34m\u001b[0m\n\u001b[0;32m----> 1\u001b[0;31m \u001b[0mdf\u001b[0m\u001b[0;34m[\u001b[0m\u001b[0;36m25\u001b[0m\u001b[0;34m]\u001b[0m\u001b[0;34m\u001b[0m\u001b[0;34m\u001b[0m\u001b[0m\n\u001b[0m",
      "\u001b[0;32m~/anaconda3/lib/python3.8/site-packages/pandas/core/frame.py\u001b[0m in \u001b[0;36m__getitem__\u001b[0;34m(self, key)\u001b[0m\n\u001b[1;32m   3456\u001b[0m             \u001b[0;32mif\u001b[0m \u001b[0mself\u001b[0m\u001b[0;34m.\u001b[0m\u001b[0mcolumns\u001b[0m\u001b[0;34m.\u001b[0m\u001b[0mnlevels\u001b[0m \u001b[0;34m>\u001b[0m \u001b[0;36m1\u001b[0m\u001b[0;34m:\u001b[0m\u001b[0;34m\u001b[0m\u001b[0;34m\u001b[0m\u001b[0m\n\u001b[1;32m   3457\u001b[0m                 \u001b[0;32mreturn\u001b[0m \u001b[0mself\u001b[0m\u001b[0;34m.\u001b[0m\u001b[0m_getitem_multilevel\u001b[0m\u001b[0;34m(\u001b[0m\u001b[0mkey\u001b[0m\u001b[0;34m)\u001b[0m\u001b[0;34m\u001b[0m\u001b[0;34m\u001b[0m\u001b[0m\n\u001b[0;32m-> 3458\u001b[0;31m             \u001b[0mindexer\u001b[0m \u001b[0;34m=\u001b[0m \u001b[0mself\u001b[0m\u001b[0;34m.\u001b[0m\u001b[0mcolumns\u001b[0m\u001b[0;34m.\u001b[0m\u001b[0mget_loc\u001b[0m\u001b[0;34m(\u001b[0m\u001b[0mkey\u001b[0m\u001b[0;34m)\u001b[0m\u001b[0;34m\u001b[0m\u001b[0;34m\u001b[0m\u001b[0m\n\u001b[0m\u001b[1;32m   3459\u001b[0m             \u001b[0;32mif\u001b[0m \u001b[0mis_integer\u001b[0m\u001b[0;34m(\u001b[0m\u001b[0mindexer\u001b[0m\u001b[0;34m)\u001b[0m\u001b[0;34m:\u001b[0m\u001b[0;34m\u001b[0m\u001b[0;34m\u001b[0m\u001b[0m\n\u001b[1;32m   3460\u001b[0m                 \u001b[0mindexer\u001b[0m \u001b[0;34m=\u001b[0m \u001b[0;34m[\u001b[0m\u001b[0mindexer\u001b[0m\u001b[0;34m]\u001b[0m\u001b[0;34m\u001b[0m\u001b[0;34m\u001b[0m\u001b[0m\n",
      "\u001b[0;32m~/anaconda3/lib/python3.8/site-packages/pandas/core/indexes/base.py\u001b[0m in \u001b[0;36mget_loc\u001b[0;34m(self, key, method, tolerance)\u001b[0m\n\u001b[1;32m   3361\u001b[0m                 \u001b[0;32mreturn\u001b[0m \u001b[0mself\u001b[0m\u001b[0;34m.\u001b[0m\u001b[0m_engine\u001b[0m\u001b[0;34m.\u001b[0m\u001b[0mget_loc\u001b[0m\u001b[0;34m(\u001b[0m\u001b[0mcasted_key\u001b[0m\u001b[0;34m)\u001b[0m\u001b[0;34m\u001b[0m\u001b[0;34m\u001b[0m\u001b[0m\n\u001b[1;32m   3362\u001b[0m             \u001b[0;32mexcept\u001b[0m \u001b[0mKeyError\u001b[0m \u001b[0;32mas\u001b[0m \u001b[0merr\u001b[0m\u001b[0;34m:\u001b[0m\u001b[0;34m\u001b[0m\u001b[0;34m\u001b[0m\u001b[0m\n\u001b[0;32m-> 3363\u001b[0;31m                 \u001b[0;32mraise\u001b[0m \u001b[0mKeyError\u001b[0m\u001b[0;34m(\u001b[0m\u001b[0mkey\u001b[0m\u001b[0;34m)\u001b[0m \u001b[0;32mfrom\u001b[0m \u001b[0merr\u001b[0m\u001b[0;34m\u001b[0m\u001b[0;34m\u001b[0m\u001b[0m\n\u001b[0m\u001b[1;32m   3364\u001b[0m \u001b[0;34m\u001b[0m\u001b[0m\n\u001b[1;32m   3365\u001b[0m         \u001b[0;32mif\u001b[0m \u001b[0mis_scalar\u001b[0m\u001b[0;34m(\u001b[0m\u001b[0mkey\u001b[0m\u001b[0;34m)\u001b[0m \u001b[0;32mand\u001b[0m \u001b[0misna\u001b[0m\u001b[0;34m(\u001b[0m\u001b[0mkey\u001b[0m\u001b[0;34m)\u001b[0m \u001b[0;32mand\u001b[0m \u001b[0;32mnot\u001b[0m \u001b[0mself\u001b[0m\u001b[0;34m.\u001b[0m\u001b[0mhasnans\u001b[0m\u001b[0;34m:\u001b[0m\u001b[0;34m\u001b[0m\u001b[0;34m\u001b[0m\u001b[0m\n",
      "\u001b[0;31mKeyError\u001b[0m: 25"
     ]
    }
   ],
   "source": [
    "df[25]"
   ]
  },
  {
   "cell_type": "markdown",
   "id": "d60a5a9e-c153-4640-bf6a-5e4f59f7d534",
   "metadata": {
    "tags": []
   },
   "source": [
    "## <br><br><br>pandas loc"
   ]
  },
  {
   "cell_type": "markdown",
   "id": "37c21cb8-be51-4037-9186-8318a6c4f594",
   "metadata": {},
   "source": [
    "The `loc` **attribute** allows us to call up certain rows and columns. The syntax is:"
   ]
  },
  {
   "cell_type": "markdown",
   "id": "7867327d-cefb-48d6-918a-2572f2e2708a",
   "metadata": {},
   "source": [
    "#### `df.loc[row, column]`"
   ]
  },
  {
   "cell_type": "markdown",
   "id": "ba79766a-431a-45fb-a40d-f3704d2823a4",
   "metadata": {},
   "source": [
    "#### `df.loc[list of rows, list of columns]`"
   ]
  },
  {
   "cell_type": "markdown",
   "id": "0279bc36-308b-45e2-9f3e-ee6ff3c976f6",
   "metadata": {},
   "source": [
    "#### `df.loc[range of rows, range of columns]`"
   ]
  },
  {
   "cell_type": "markdown",
   "id": "477f2f96-1b4e-41f3-b2d6-4af8e0881472",
   "metadata": {},
   "source": [
    "`loc` can take a row, a list of rows, or a range of rows, followed by a comma, and then a column, list of columns, or range of columns. <br><br>If you want all the rows or all the columns, you can use a `:`. <br><br>**The rows that we refer to here are the row names (index names) that are found in bold on the far left of our DataFrame.**"
   ]
  },
  {
   "cell_type": "markdown",
   "id": "92e19f7e-169b-432b-b8e0-f69d401db7b6",
   "metadata": {},
   "source": [
    "<br>To reference one cell:"
   ]
  },
  {
   "cell_type": "code",
   "execution_count": null,
   "id": "772ca4d2-c62c-443d-b68c-8c25e48571f0",
   "metadata": {},
   "outputs": [],
   "source": [
    "df.loc[25, \"date\"]"
   ]
  },
  {
   "cell_type": "markdown",
   "id": "c7a5c5bf-8f9e-464f-a8ca-662bb03c950d",
   "metadata": {},
   "source": [
    "<br>All rows for one column:"
   ]
  },
  {
   "cell_type": "code",
   "execution_count": null,
   "id": "1acaa43d-6671-45c5-8c14-f8beae14884e",
   "metadata": {},
   "outputs": [],
   "source": [
    "df.loc[:, \"team1\"]"
   ]
  },
  {
   "cell_type": "markdown",
   "id": "0987db71-8a4f-4932-973e-65c7a93544a6",
   "metadata": {},
   "source": [
    "<br>All columns for one row:"
   ]
  },
  {
   "cell_type": "code",
   "execution_count": null,
   "id": "5d3313b7-834c-4bff-84fb-6624219bd2dc",
   "metadata": {},
   "outputs": [],
   "source": [
    "df.loc[12, :]"
   ]
  },
  {
   "cell_type": "markdown",
   "id": "519c801b-f999-40d0-8c34-edd34f97cd58",
   "metadata": {},
   "source": [
    "### <br><br>Exercise 1"
   ]
  },
  {
   "cell_type": "markdown",
   "id": "43985eba-5efa-44b8-80e2-6eaa4e3a18cf",
   "metadata": {},
   "source": [
    "The very first game played by the Chicago Sky is in the row with index 6427."
   ]
  },
  {
   "cell_type": "markdown",
   "id": "1a831021-e67e-4cb2-803f-d0e9427aed7b",
   "metadata": {},
   "source": [
    "Write code to return all columns in that row:"
   ]
  },
  {
   "cell_type": "code",
   "execution_count": null,
   "id": "bd21eb3f-7d4c-49e7-90bf-2c26146f6772",
   "metadata": {},
   "outputs": [],
   "source": []
  },
  {
   "cell_type": "markdown",
   "id": "8101bad1-a4b5-471b-86ce-59c78b272818",
   "metadata": {},
   "source": [
    "Did the Chicago Sky play their very first game at home or away? Write code to return the data in the column \"is_home1\" for that row:"
   ]
  },
  {
   "cell_type": "code",
   "execution_count": null,
   "id": "98f0ca53-9ada-4c8e-9a4e-1e3ed7d89567",
   "metadata": {},
   "outputs": [],
   "source": []
  },
  {
   "cell_type": "markdown",
   "id": "ece1cbb7-95a1-4b76-ab26-5dff06225644",
   "metadata": {},
   "source": [
    "*(1 is True and 0 is False)* "
   ]
  },
  {
   "cell_type": "markdown",
   "id": "650dd677-4918-49bb-b66a-36b6351b9362",
   "metadata": {},
   "source": [
    "## <br><br>`loc` with a range and a list"
   ]
  },
  {
   "cell_type": "markdown",
   "id": "77b954eb-f8f3-4d05-b133-2bd8b076b115",
   "metadata": {},
   "source": [
    "This code will return all columns for the rows 0 through 10."
   ]
  },
  {
   "cell_type": "code",
   "execution_count": null,
   "id": "c18caf4f-ea30-4c96-925d-8948587a0d17",
   "metadata": {},
   "outputs": [],
   "source": [
    "df.loc[0:10, :]"
   ]
  },
  {
   "cell_type": "markdown",
   "id": "36c268cf-4785-4b36-9d36-57886ab60177",
   "metadata": {},
   "source": [
    "<br>**Unlike Python indexing, `loc` is referencing the rows by their index names, so row 10 is included.**"
   ]
  },
  {
   "cell_type": "markdown",
   "id": "26f653b5-e06f-4038-b106-b64e20128480",
   "metadata": {},
   "source": [
    "<br><br>We can also ask for a range of columns, from left to right:"
   ]
  },
  {
   "cell_type": "code",
   "execution_count": null,
   "id": "b11ba013-fddd-4499-ad55-15eceee4ef86",
   "metadata": {},
   "outputs": [],
   "source": [
    "df.loc[0:10, \"season\":\"name2\"]"
   ]
  },
  {
   "cell_type": "markdown",
   "id": "85546c17-e385-4d19-ace4-df18dadefcb8",
   "metadata": {},
   "source": [
    "<br><br>Again, `loc` uses the column and row names, not their positions, so this will not work:"
   ]
  },
  {
   "cell_type": "code",
   "execution_count": null,
   "id": "a37f9b9c-acc0-4ce7-b4d6-12a20ed6828f",
   "metadata": {},
   "outputs": [],
   "source": [
    "df.loc[0:10, 0:4]"
   ]
  },
  {
   "cell_type": "markdown",
   "id": "5d525774-b29b-40bf-9fc3-c55534f51204",
   "metadata": {},
   "source": [
    "<br><br>We can also pass a list of rows or columns:"
   ]
  },
  {
   "cell_type": "code",
   "execution_count": null,
   "id": "225ae36d-17bf-4cd3-b90e-40fca646376d",
   "metadata": {},
   "outputs": [],
   "source": [
    "df.loc[[0, 10, 8], [\"team1\", \"score1\", \"team2\", \"score2\"]]"
   ]
  },
  {
   "cell_type": "markdown",
   "id": "4f919870-6984-4117-b9ee-de1a85460afd",
   "metadata": {},
   "source": [
    "*Notice how the returned DataFrame used the same order given in the lists.*"
   ]
  },
  {
   "cell_type": "markdown",
   "id": "3463ccf2-d486-421b-b251-adb528cb8ed4",
   "metadata": {},
   "source": [
    "### <br><br>Exercise 2"
   ]
  },
  {
   "cell_type": "markdown",
   "id": "806d7762-44e4-4d9c-9e55-a8659ba67099",
   "metadata": {},
   "source": [
    "Run the following cell to store the list of row indexes for the first 5 games played by the Chicago Sky:"
   ]
  },
  {
   "cell_type": "code",
   "execution_count": null,
   "id": "f786bfc7-0817-4ef8-ba70-f32252c4fc6d",
   "metadata": {},
   "outputs": [],
   "source": [
    "first5 = [6427, 6415, 6393, 6387, 6371]"
   ]
  },
  {
   "cell_type": "markdown",
   "id": "bd52fe17-aaf9-44a4-b8af-4d1014a7f80d",
   "metadata": {},
   "source": [
    "Write code to return the rows for the first 5 Chicago Sky games, and return only the columns \"team2\", \"score1\", \"score2\", and \"is_home1\":"
   ]
  },
  {
   "cell_type": "code",
   "execution_count": null,
   "id": "66c4ed80-75b9-4180-bbb9-0b7cf8a18828",
   "metadata": {},
   "outputs": [],
   "source": []
  },
  {
   "cell_type": "markdown",
   "id": "36c16f6f-c120-4fbc-a003-da5e411a9a8e",
   "metadata": {},
   "source": [
    "## <br><br>`loc` with a conditional"
   ]
  },
  {
   "cell_type": "markdown",
   "id": "016cfb06-52b1-429a-a4b3-df30b5ef946c",
   "metadata": {},
   "source": [
    "You can use a conditional to filter rows. The conditional is written the same way as we would write it without using loc:"
   ]
  },
  {
   "cell_type": "code",
   "execution_count": null,
   "id": "7c0ddafb-d51e-4401-a9e1-70bf2b4b3e61",
   "metadata": {},
   "outputs": [],
   "source": [
    "df.loc[df[\"team1\"] == \"CHI\", :]"
   ]
  },
  {
   "cell_type": "markdown",
   "id": "3c913b65-04fb-4e99-8ecb-8b22b0aea263",
   "metadata": {},
   "source": [
    "<br><br>Here I use the same filter for the rows, but I only ask for three columns to be returned:"
   ]
  },
  {
   "cell_type": "code",
   "execution_count": null,
   "id": "2ed22201-4e97-4a76-804d-66fb00c07163",
   "metadata": {},
   "outputs": [],
   "source": [
    "df.loc[df[\"team1\"] == \"CHI\", [\"team2\", \"score1\", \"score2\"]]"
   ]
  },
  {
   "cell_type": "markdown",
   "id": "4b077270-080f-49d0-b691-d434a0aac8df",
   "metadata": {},
   "source": [
    "### <br><br>Exercise 3"
   ]
  },
  {
   "cell_type": "markdown",
   "id": "665dec99-3681-4526-a3b5-a435d3201681",
   "metadata": {},
   "source": [
    "Write code to return all games played in the 2012 season. Only return the columns \"date\", \"name1\", and \"name2\"."
   ]
  },
  {
   "cell_type": "code",
   "execution_count": null,
   "id": "ad94e9b5-6d92-4f47-86bb-5ece18aae7da",
   "metadata": {},
   "outputs": [],
   "source": []
  },
  {
   "cell_type": "code",
   "execution_count": null,
   "id": "5cf2e2b8-8e41-499b-a4e9-39311043513c",
   "metadata": {},
   "outputs": [],
   "source": []
  },
  {
   "cell_type": "markdown",
   "id": "2d062148-22b0-4559-81a2-756f59aecfd0",
   "metadata": {},
   "source": [
    "## <br><br>pandas `iloc`"
   ]
  },
  {
   "cell_type": "markdown",
   "id": "8e2e7628-a750-4ff0-8342-111b9b75fafc",
   "metadata": {},
   "source": [
    "**While `loc` searches by row and column names, `iloc` searches only by the indexed positions in the DataFrame.**"
   ]
  },
  {
   "cell_type": "markdown",
   "id": "acd8f432-0690-4cb0-8440-3766966a6e49",
   "metadata": {},
   "source": [
    "Here, I'm asking for the top 10 rows and the first four columns:"
   ]
  },
  {
   "cell_type": "code",
   "execution_count": null,
   "id": "ada588f8-1cf2-40c6-9056-220ec1af6747",
   "metadata": {},
   "outputs": [],
   "source": [
    "df.iloc[0:10, 0:4]"
   ]
  },
  {
   "cell_type": "markdown",
   "id": "c56c2b2a-a5b5-4529-bca2-860318d3e140",
   "metadata": {},
   "source": [
    "<br>**Notice that `iloc` uses Python indexing!** When we ask for rows 0:10, it returns rows 0 to 9. Also notice that the index (the bold number on the left side of each row) does not count as a true column."
   ]
  },
  {
   "cell_type": "markdown",
   "id": "59e3cbce-7613-4682-8c20-5d75f363ab08",
   "metadata": {},
   "source": [
    "<br>Because `iloc` uses Python indexing, we can use negative numbers:"
   ]
  },
  {
   "cell_type": "code",
   "execution_count": null,
   "id": "47c808dc-2c7a-4da5-880e-b77689ad8233",
   "metadata": {},
   "outputs": [],
   "source": [
    "df.iloc[0:-5000, 4:-10]"
   ]
  },
  {
   "cell_type": "markdown",
   "id": "77d6b87c-0762-47c1-8dd6-e95fc6e5f379",
   "metadata": {},
   "source": [
    "### <br><br>Exercise 4"
   ]
  },
  {
   "cell_type": "markdown",
   "id": "8e4b3cdd-9ca4-494a-bb15-ca64c202656a",
   "metadata": {},
   "source": [
    "The games are included in reverse chronological order, so the last row in the table is the very first game ever played."
   ]
  },
  {
   "cell_type": "markdown",
   "id": "14fe4e3c-4ef0-4ad9-8afe-a5f2310a459a",
   "metadata": {},
   "source": [
    "Was the very first game played at home or away for team1? Use iloc to return the column \"is_home1\" for the very last row in the DataFrame:"
   ]
  },
  {
   "cell_type": "code",
   "execution_count": null,
   "id": "b3fab7c2-c4a1-4b8d-be0c-dee6af82975b",
   "metadata": {},
   "outputs": [],
   "source": []
  },
  {
   "cell_type": "markdown",
   "id": "776a6ec9-3648-483e-88a0-6dde12c2440f",
   "metadata": {},
   "source": [
    "Use iloc to write code to return the columns \"team1\" and \"team2\" for the most recent 20 games:"
   ]
  },
  {
   "cell_type": "code",
   "execution_count": null,
   "id": "b47bdd95-8860-4308-b48d-4b86c5cb5e6e",
   "metadata": {},
   "outputs": [],
   "source": []
  },
  {
   "cell_type": "markdown",
   "id": "06c2b414-a928-4635-87f0-5ba7d3dd753d",
   "metadata": {},
   "source": [
    "## <br><br>pandas `at` and `iat`"
   ]
  },
  {
   "cell_type": "markdown",
   "id": "364c63ac-8e37-4352-b27e-51e911c968aa",
   "metadata": {},
   "source": [
    "If you are looking for the contents of only a single cell (called a **scalar**) in the DataFrame, you can use `loc` or `iloc`:"
   ]
  },
  {
   "cell_type": "code",
   "execution_count": null,
   "id": "76578098-c5d6-4203-af99-1afa690a3a2e",
   "metadata": {},
   "outputs": [],
   "source": [
    "df.loc[0, \"season\"]"
   ]
  },
  {
   "cell_type": "code",
   "execution_count": null,
   "id": "d3b8de50-8dd8-4e67-a5e1-7840b542cf00",
   "metadata": {},
   "outputs": [],
   "source": [
    "df.iloc[0, 0]"
   ]
  },
  {
   "cell_type": "markdown",
   "id": "494888fc-fe22-4d4a-a39d-93c86b346733",
   "metadata": {},
   "source": [
    "<br>However, there is another set of pandas functions designed to look up only a single cell. `at` will look up a single cell by row name and column name (like `loc`), and `iat` will look up a single cell by index position (like `iloc`)."
   ]
  },
  {
   "cell_type": "markdown",
   "id": "f28c20a4-0561-4d75-bf2c-5270d9c56568",
   "metadata": {},
   "source": [
    "Why does pandas have a separate way to look up a single cell? Because `at` and `iat` are very fast. If you write code to look up 10,000 single points in a DataFrame, it would be much faster to use `at` or `iat` than `loc` or `iloc`."
   ]
  },
  {
   "cell_type": "code",
   "execution_count": null,
   "id": "aa20d245-c1e0-4f61-b8ab-b8c74b438123",
   "metadata": {},
   "outputs": [],
   "source": [
    "df.at[0, \"season\"]"
   ]
  },
  {
   "cell_type": "code",
   "execution_count": null,
   "id": "a924d777-0551-4918-be99-257d87a7ef1c",
   "metadata": {},
   "outputs": [],
   "source": [
    "df.iat[0, 0]"
   ]
  },
  {
   "cell_type": "markdown",
   "id": "d43da40d-327e-44e5-a4de-785880efd3e0",
   "metadata": {},
   "source": [
    "<br><br>Just to reiterate, `at` and `iat` cannot be used with multiple rows or columns:"
   ]
  },
  {
   "cell_type": "code",
   "execution_count": null,
   "id": "1d74620a-5e25-4d1e-b2bc-9b2cf525207b",
   "metadata": {},
   "outputs": [],
   "source": [
    "df.at[0, [\"season\", \"date\"]]"
   ]
  },
  {
   "cell_type": "markdown",
   "id": "b0668254-8943-4d71-a24f-741c3c046274",
   "metadata": {},
   "source": [
    "### <br><br>Exercise 5"
   ]
  },
  {
   "cell_type": "markdown",
   "id": "cf258d6c-41bd-4bc1-be94-2b74c0af7486",
   "metadata": {},
   "source": [
    "Use `at` to write code to find out if the game in row 5485 was played at home or away:"
   ]
  },
  {
   "cell_type": "code",
   "execution_count": null,
   "id": "721e26eb-cc6c-4d04-8ab4-bf46829ad55b",
   "metadata": {},
   "outputs": [],
   "source": []
  },
  {
   "cell_type": "markdown",
   "id": "e73689ab-3e46-49e9-a67b-73f9fb9cb88d",
   "metadata": {},
   "source": [
    "Now use `iat` to find the same answer:"
   ]
  },
  {
   "cell_type": "code",
   "execution_count": null,
   "id": "fdea5139-9c30-4833-b71e-b7b8f6698e24",
   "metadata": {},
   "outputs": [],
   "source": []
  },
  {
   "cell_type": "markdown",
   "id": "d6f999b5-ee17-49ce-98fa-34b21e1177e3",
   "metadata": {},
   "source": [
    "## <br><br>A note about index labels"
   ]
  },
  {
   "cell_type": "markdown",
   "id": "3c01e8b3-9eb2-48cf-b5c9-cf5e7067d180",
   "metadata": {},
   "source": [
    "The bold numbers on the far left of each column were assigned to each row when the csv file was originally loaded into pandas."
   ]
  },
  {
   "cell_type": "code",
   "execution_count": null,
   "id": "fd71c70c-ed04-4d7b-8745-6877a8257bc7",
   "metadata": {},
   "outputs": [],
   "source": [
    "df.head()"
   ]
  },
  {
   "cell_type": "markdown",
   "id": "9047a0ee-7a4b-4537-b24c-3f12214198a3",
   "metadata": {},
   "source": [
    "<br>If we make a new DataFrame out of only some rows, the index labels will stay the same, leaving gaps. Let's make a new DataFrame that only includes games played by the Chicago Sky:"
   ]
  },
  {
   "cell_type": "code",
   "execution_count": null,
   "id": "aaf0b714-15ca-4f25-bbf8-9fcb599e6d83",
   "metadata": {},
   "outputs": [],
   "source": [
    "CHIdf = df.loc[df[\"team1\"] == \"CHI\", :]\n",
    "CHIdf.head()"
   ]
  },
  {
   "cell_type": "markdown",
   "id": "e2958de6-b05a-4e40-be4c-3c0bf261a848",
   "metadata": {},
   "source": [
    "<br>I can now use `iloc` to get Chicago's most recent 30 games:"
   ]
  },
  {
   "cell_type": "code",
   "execution_count": null,
   "id": "8962c887-bd77-4cb1-b450-06a98eab0099",
   "metadata": {},
   "outputs": [],
   "source": [
    "CHIdf.iloc[0:30, :]"
   ]
  },
  {
   "cell_type": "markdown",
   "id": "1b810b2f-1bf3-416f-b5f3-c9dcb5b2585c",
   "metadata": {},
   "source": [
    "<br>But I could not use `loc` to get the same thing:"
   ]
  },
  {
   "cell_type": "code",
   "execution_count": null,
   "id": "ed49cc57-7508-4d65-ad9d-33e39acc1aea",
   "metadata": {},
   "outputs": [],
   "source": [
    "CHIdf.loc[0:30, :]"
   ]
  },
  {
   "cell_type": "markdown",
   "id": "2fbd4a38-9b19-45fa-b015-8409c36a0681",
   "metadata": {},
   "source": [
    "<br>You can, however, set one of your columns as the index labels:"
   ]
  },
  {
   "cell_type": "code",
   "execution_count": null,
   "id": "5b52d864-3cb8-420b-97a9-6083f121d476",
   "metadata": {},
   "outputs": [],
   "source": [
    "CHIdf = CHIdf.set_index(\"date\")"
   ]
  },
  {
   "cell_type": "code",
   "execution_count": null,
   "id": "1b7c5d09-b5de-451c-a964-204644c08d93",
   "metadata": {},
   "outputs": [],
   "source": [
    "CHIdf.head()"
   ]
  },
  {
   "cell_type": "markdown",
   "id": "98ec4e9e-ca07-4151-ae9a-1814a1c20878",
   "metadata": {},
   "source": [
    "<br>Now I can use `loc` to reference the games by date:"
   ]
  },
  {
   "cell_type": "code",
   "execution_count": null,
   "id": "cb15da68-db7d-4287-a605-2c7b834029ca",
   "metadata": {},
   "outputs": [],
   "source": [
    "CHIdf.loc[\"9/13/2012\", :]"
   ]
  },
  {
   "cell_type": "markdown",
   "id": "54edec79-8508-4825-8434-058f268d769a",
   "metadata": {},
   "source": [
    "<br><br>I can still use a range of row labels:"
   ]
  },
  {
   "cell_type": "code",
   "execution_count": null,
   "id": "9f03590a-5236-4f84-834c-6098680948f5",
   "metadata": {},
   "outputs": [],
   "source": [
    "CHIdf.loc[\"9/13/2012\":\"5/19/2012\", :]"
   ]
  },
  {
   "cell_type": "markdown",
   "id": "d6183305-acb6-4753-a36a-70a93c401774",
   "metadata": {},
   "source": [
    "<br>If you've been wondering why referencing rows by index numbers would ever be useful, now you can set your index names to any unique value that would be useful to you - a sample ID, a name, a date, etc."
   ]
  },
  {
   "cell_type": "markdown",
   "id": "b123daf5-7f38-481f-b508-072e6a443322",
   "metadata": {},
   "source": [
    "### <br><br>Exercise 6"
   ]
  },
  {
   "cell_type": "markdown",
   "id": "c6eebf31-25fc-4ec6-90b7-c534243d6268",
   "metadata": {},
   "source": [
    "Using the CHIdf, write code (use either `loc` or `at`) to find out which team Chicago played against on 6/16/2017:"
   ]
  },
  {
   "cell_type": "code",
   "execution_count": null,
   "id": "4e301a87-5375-4fb2-81b4-b49ef62c6731",
   "metadata": {},
   "outputs": [],
   "source": []
  },
  {
   "cell_type": "markdown",
   "id": "5131c431-c8bb-4dae-96ac-be95649a48c7",
   "metadata": {},
   "source": [
    "### <br><br><br>Searching for multiple conditionals in pandas"
   ]
  },
  {
   "cell_type": "markdown",
   "id": "2838b4e4-e067-4d0d-9de5-46ec2213767e",
   "metadata": {},
   "source": [
    "Let's say we want to search through the original DataFrame, `df`, for all games played by the Chicago Sky where the Chicago Sky won. For each of these games, we want to return only the columns for season and the name of the opposing team."
   ]
  },
  {
   "cell_type": "markdown",
   "id": "997e1d4d-38f4-4d2c-809e-af872bc3b052",
   "metadata": {},
   "source": [
    "The conditional for only Chicago Sky games is:\n",
    "<br>`df[\"team1\"] == \"CHI\"`\n",
    "<br><br>The conditional for games that Chicago won is:\n",
    "<br>`df[\"score1\"] > df[\"score2\"]`"
   ]
  },
  {
   "cell_type": "markdown",
   "id": "ba41dc36-f142-4002-9e74-4d497fa0cfd6",
   "metadata": {},
   "source": [
    "We might try to use Python operators (`and`, `or`, `not`):"
   ]
  },
  {
   "cell_type": "code",
   "execution_count": null,
   "id": "cd31f7fd-959e-45c5-9312-aa8bccea7295",
   "metadata": {},
   "outputs": [],
   "source": [
    "df.loc[df[\"team1\"] == \"CHI\" and df[\"score1\"] > df[\"score2\"], [\"season\", \"name2\"]]"
   ]
  },
  {
   "cell_type": "markdown",
   "id": "b921758a-ff61-424f-bc78-3b3e1b2ddf37",
   "metadata": {},
   "source": [
    "<br><br>**However, pandas uses the operators `&`, `|`, `!` for and, or, and not. Pandas also requires you to include each conditional inside parentheses.**"
   ]
  },
  {
   "cell_type": "code",
   "execution_count": null,
   "id": "db9e6f19-9760-4106-b878-130f9cb3cd98",
   "metadata": {},
   "outputs": [],
   "source": [
    "df.loc[(df[\"team1\"] == \"CHI\") & (df[\"score1\"] > df[\"score2\"]), [\"season\", \"team2\"]]"
   ]
  },
  {
   "cell_type": "markdown",
   "id": "a301907a-79a0-4cb2-94fa-4582606b68cd",
   "metadata": {},
   "source": [
    "### <br><br>Exercise 7"
   ]
  },
  {
   "cell_type": "markdown",
   "id": "2359790e-4ad4-4762-b2e7-c7e149da0561",
   "metadata": {},
   "source": [
    "Use `loc` to return rows in the DataFrame that were played in either the 1999 or 2000 seasons. For each row, return all columns:"
   ]
  },
  {
   "cell_type": "code",
   "execution_count": null,
   "id": "236a8c1e-c5ad-4241-b9b2-b050f850c2d9",
   "metadata": {},
   "outputs": [],
   "source": []
  },
  {
   "cell_type": "markdown",
   "id": "b2921ec7-6a25-4343-a455-767977cb6470",
   "metadata": {},
   "source": [
    "Has Chicago ever played in any playoff games? Return rows that have CHI in the \"team1\" column and 1 in the \"playoff\" column. Only return the columns \"season\", \"team2\", and \"date\":"
   ]
  },
  {
   "cell_type": "code",
   "execution_count": null,
   "id": "a32e2a01-6424-4f7b-9ab5-cecaa74c1693",
   "metadata": {},
   "outputs": [],
   "source": []
  }
 ],
 "metadata": {
  "kernelspec": {
   "display_name": "Python 3",
   "language": "python",
   "name": "python3"
  },
  "language_info": {
   "codemirror_mode": {
    "name": "ipython",
    "version": 3
   },
   "file_extension": ".py",
   "mimetype": "text/x-python",
   "name": "python",
   "nbconvert_exporter": "python",
   "pygments_lexer": "ipython3",
   "version": "3.8.2"
  }
 },
 "nbformat": 4,
 "nbformat_minor": 5
}
