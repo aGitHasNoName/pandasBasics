{
 "cells": [
  {
   "cell_type": "markdown",
   "id": "59a2d3de-f2c0-4afe-a54a-5e294d266273",
   "metadata": {},
   "source": [
    "# pandas"
   ]
  },
  {
   "cell_type": "markdown",
   "id": "e7f4b330-9e0a-4ad5-98b4-e54bebd3a3d7",
   "metadata": {},
   "source": [
    "- Pandas is one of the most commonly used Python packages/libraries/modules for data science.<br><br>\n",
    "- Pandas is Python's answer for making two dimensional tables (ala Excel and SQL).<br><br>\n",
    "- Pandas calls a table a \"DataFrame\".<br><br>\n",
    "- Pandas DataFrames are used by Python's other packages for statistical analysis, data manipulation, and data visualization.<br><br>\n",
    "- Pandas DataFrames can be exported as .csv and other files.<br><br>"
   ]
  },
  {
   "cell_type": "markdown",
   "id": "2d00bfc0-4a81-47d9-ab3a-a25a1fe60aaa",
   "metadata": {},
   "source": [
    "The pandas syntax isn't very instinctual. Some of the syntax will differ from basic Python. I still have to look a lot of things up in pandas, if it's something I don't do very often. However, it is the tool for working with spreadsheets in Python, so you'll need to learn it at some point.<br><br>\n",
    "Pandas is written as more of a *functional* language than basic Python. This means that instead of manipulating objects, we'll be applying more functions across our data."
   ]
  },
  {
   "cell_type": "markdown",
   "id": "3a2d4bf7-cc0c-401e-8d7f-0991ff5e7a85",
   "metadata": {},
   "source": [
    "#### <br>Why do we work with Jupyter Notebooks for data science?"
   ]
  },
  {
   "cell_type": "markdown",
   "id": "033b772e-5946-432b-aa51-9d501b3e7758",
   "metadata": {},
   "source": [
    "Jupyter Notebooks allow us to view nicely formatted output (such as pandas DataFrames and data visualizations) directly below the code used to create the object. They also allow you to scroll through large DataFrames or images."
   ]
  },
  {
   "cell_type": "markdown",
   "id": "b0c1dbbb-5312-4cf1-bb75-82774efc3190",
   "metadata": {},
   "source": [
    "#### <br>NumPy arrays\n",
    "This week is going to focus on the Python package Pandas. However, Pandas (and many other Python packages) are built on NumPy arrays. NumPy is another Python module, and NumPy arrays are multi-dimensional datasets made up entirely of numerical data. They allow for much faster calculations than other basic Python objects. If you work with large numerical datasets, you will also want to look into the NumPy package. NumPy arrays do not have the features that many of us want to work with, such as column headers and the ability to work with non-numerical data; that's why pandas is so popular."
   ]
  },
  {
   "cell_type": "markdown",
   "id": "cf83b2a9-28b9-44f0-9ae1-1dd9367d7162",
   "metadata": {},
   "source": [
    "### <br><br><br>Importing pandas"
   ]
  },
  {
   "cell_type": "markdown",
   "id": "0b493b70-6ed7-4af4-bea4-1effec56e603",
   "metadata": {},
   "source": [
    "Because pandas is one of the most commonly used Python packages, it often gets imported as a shortened version of it's actual name. This makes it quicker to type."
   ]
  },
  {
   "cell_type": "code",
   "execution_count": null,
   "id": "1b96aee5-766e-4ace-b7c1-21ba17809d98",
   "metadata": {},
   "outputs": [],
   "source": [
    "import pandas as pd"
   ]
  },
  {
   "cell_type": "markdown",
   "id": "7caeb892-3b60-42d3-a172-832db988e604",
   "metadata": {},
   "source": [
    "Pandas comes with the Anaconda distribution of Python and is available on Google Colab."
   ]
  },
  {
   "cell_type": "markdown",
   "id": "17684dc2-0354-416a-b777-bf3430e27567",
   "metadata": {},
   "source": [
    "### <br><br><br>Opening files from your computer"
   ]
  },
  {
   "cell_type": "markdown",
   "id": "79718441-3bcb-472c-a4c7-036ddfde025d",
   "metadata": {},
   "source": [
    "#### If you are using Google Colab, you must run the next line of code. *If you are NOT using Google Colab, do NOT run the next line.*\n",
    "Google Colab requires you to load data files into your workspace by hand (or by using this trick to pull them in from github)."
   ]
  },
  {
   "cell_type": "code",
   "execution_count": null,
   "id": "9a46bce5-8d87-4b71-bec6-10c3a1f4e2b8",
   "metadata": {},
   "outputs": [],
   "source": [
    "!wget https://raw.githubusercontent.com/aGitHasNoName/pandasBasics/main/forestfires.csv\n",
    "!wget https://raw.githubusercontent.com/aGitHasNoName/pandasBasics/main/pigeonRacing.txt\n",
    "!wget https://raw.githubusercontent.com/aGitHasNoName/pandasBasics/main/zoo.xlsx"
   ]
  },
  {
   "cell_type": "markdown",
   "id": "3bee105d-c718-4ee8-95a8-77d8b98eb19e",
   "metadata": {},
   "source": [
    "### <br><br><br>Loading a csv file"
   ]
  },
  {
   "cell_type": "markdown",
   "id": "b2f470eb-6b9d-4007-a2fa-7cb028d63c7d",
   "metadata": {},
   "source": [
    "We will use the function `pd.read_csv()`. As a reminder, when we use a function from an imported module, we first give the module's name, followed by a dot, followed by the function name.\n",
    "<br><br>This will automatically create a **DataFrame** object, which we are saving as `df`. `df` is a common variable name for a DataFrame. You can open the file, define it as a Pandas DataFrame, assign it to a variable, and close the file in one line. (Already we're seeing the differences from basic Python)."
   ]
  },
  {
   "cell_type": "code",
   "execution_count": null,
   "id": "6ed11452-979d-4d67-853e-e1cacd5baf89",
   "metadata": {},
   "outputs": [],
   "source": [
    "df = pd.read_csv(\"forestfires.csv\")"
   ]
  },
  {
   "cell_type": "markdown",
   "id": "99b8b8a0-e1f6-4a2e-9a21-ff52206ff561",
   "metadata": {},
   "source": [
    "This is a dataset from forest fires in NE Portugal. I have included the dataset as a csv file in today's materials, but the data is available publically at this site: https://archive.ics.uci.edu/ml/datasets/Forest+Fires"
   ]
  },
  {
   "cell_type": "markdown",
   "id": "3abad5eb-2de4-4ed2-8285-6d0d62ec704b",
   "metadata": {},
   "source": [
    "### <br><br><br>Viewing the DataFrame"
   ]
  },
  {
   "cell_type": "code",
   "execution_count": null,
   "id": "169f37f5-fc47-40d6-82c8-323eac82f60a",
   "metadata": {},
   "outputs": [],
   "source": [
    "df"
   ]
  },
  {
   "cell_type": "markdown",
   "id": "ada87b22-8011-4e98-b349-74d7892cd475",
   "metadata": {},
   "source": [
    "<br>Take a minute to look at the data. The DataFrame will have a slightly different look on Colab and Jupyter, and on different versions of Jupyter.\n",
    "<br><br>The number at the beginning of each row is called an **index**. The index was automatically assigned by pandas when the dataset was loaded. It was not in the original csv file. It is merely a series of consecutive numbers going down the rows. The rows were loaded in whatever order they were in the csv file."
   ]
  },
  {
   "cell_type": "markdown",
   "id": "139e5c60-4bd8-4a6a-a708-c1a2d22ad0e3",
   "metadata": {},
   "source": [
    "If you are working in Google Colab, there is a new feature that lets you magically convert your DataFrame into an interactive table. We're NOT going to use that feature, though you can feel free to explore it on your own time. "
   ]
  },
  {
   "cell_type": "markdown",
   "id": "15ffe23c-6090-4253-8136-db80aabfc9da",
   "metadata": {},
   "source": [
    "<br><br>There are ways to view pieces of the DataFrame. Try these to see what they do:"
   ]
  },
  {
   "cell_type": "code",
   "execution_count": null,
   "id": "21b419ef-4fd1-42b2-8033-e0609b240f78",
   "metadata": {},
   "outputs": [],
   "source": [
    "df.head()"
   ]
  },
  {
   "cell_type": "code",
   "execution_count": null,
   "id": "d06549f4-9340-4f19-bc15-bdf5eaa9da8b",
   "metadata": {},
   "outputs": [],
   "source": [
    "df.head(10)"
   ]
  },
  {
   "cell_type": "code",
   "execution_count": null,
   "id": "848ea7e2-dbc2-43e3-a879-1864bc5bce05",
   "metadata": {},
   "outputs": [],
   "source": [
    "df.tail()"
   ]
  },
  {
   "cell_type": "code",
   "execution_count": null,
   "id": "5f99ffae-91cb-47dc-8fb1-e0d01c026c7a",
   "metadata": {},
   "outputs": [],
   "source": [
    "df.tail(2)"
   ]
  },
  {
   "cell_type": "code",
   "execution_count": null,
   "id": "e3c93e9c-262c-44b1-9666-96ec5c4407e5",
   "metadata": {},
   "outputs": [],
   "source": [
    "df.sample()"
   ]
  },
  {
   "cell_type": "code",
   "execution_count": null,
   "id": "5959de80-7806-4c3c-b974-1941c4c875d3",
   "metadata": {},
   "outputs": [],
   "source": [
    "df.sample(6)"
   ]
  },
  {
   "cell_type": "markdown",
   "id": "7804e54b-201f-47e4-9207-053aee88be97",
   "metadata": {},
   "source": [
    "### <br><br><br>Loading other types of files"
   ]
  },
  {
   "cell_type": "markdown",
   "id": "0559c0d4-8019-441a-985b-2c00dc293254",
   "metadata": {},
   "source": [
    "We can open a tab-separated file using the same function we used to open a csv. We just have to pass a second argument, a **keyword argument**, to tell it that the delimiter is a tab instead of the default (comma). This dataset contains rankings of profressional racing pigeons."
   ]
  },
  {
   "cell_type": "code",
   "execution_count": null,
   "id": "702d1bf6-ab06-4840-b454-109c84348cea",
   "metadata": {},
   "outputs": [],
   "source": [
    "pigeon_df = pd.read_csv(\"pigeonRacing.txt\", delimiter=\"\\t\")"
   ]
  },
  {
   "cell_type": "code",
   "execution_count": null,
   "id": "d7c0f42d-0e34-40e5-8338-b326095ee00e",
   "metadata": {},
   "outputs": [],
   "source": [
    "pigeon_df.head()"
   ]
  },
  {
   "cell_type": "markdown",
   "id": "8837778b-8e96-42ab-9279-5e75bceb199c",
   "metadata": {},
   "source": [
    "<br><br>We will use a different function to open an Excel file. This file has information about animals and has two sheets within the excel file. We will first load sheet 1 and then sheet 2. We have to pass the `read_excel()` function one extra argument to specify the sheet:"
   ]
  },
  {
   "cell_type": "code",
   "execution_count": null,
   "id": "7c158d46-2f49-483d-8a62-e14f20b0a6c7",
   "metadata": {},
   "outputs": [],
   "source": [
    "zoo_df = pd.read_excel(\"zoo.xlsx\", sheet_name=0)"
   ]
  },
  {
   "cell_type": "code",
   "execution_count": null,
   "id": "f9cdf71f-c051-42db-8d35-b301ebdaf1f8",
   "metadata": {},
   "outputs": [],
   "source": [
    "zoo_df.head()"
   ]
  },
  {
   "cell_type": "code",
   "execution_count": null,
   "id": "cf493098-de3d-48e9-b9f8-5d2c5fc99a79",
   "metadata": {},
   "outputs": [],
   "source": [
    "zoo_class_df = pd.read_excel(\"zoo.xlsx\", sheet_name=1)"
   ]
  },
  {
   "cell_type": "code",
   "execution_count": null,
   "id": "a614aa41-3e12-457a-9f65-584a3b98b0ab",
   "metadata": {},
   "outputs": [],
   "source": [
    "zoo_class_df.head()"
   ]
  },
  {
   "cell_type": "markdown",
   "id": "41047684-b6e4-4983-ab11-169782c9b029",
   "metadata": {},
   "source": [
    "### <br><br>Exercise 1"
   ]
  },
  {
   "cell_type": "markdown",
   "id": "98ba836d-4925-4026-a4ff-8e0af898f2c7",
   "metadata": {},
   "source": [
    "Try to load two or three files from your own computer into pandas. Try with at least two different file types (csv, tab-delimited, excel)."
   ]
  },
  {
   "cell_type": "markdown",
   "id": "12decee2-1668-4ae5-b58a-ed1a2038c404",
   "metadata": {},
   "source": [
    "<br>**If you are using Google Colab**, you will need to upload the files to Colab yourself. You can do this by clicking on the folder on the left menu. You should see a file tree come up that includes sample_data. Right click anywhere in this space and choose upload to upload your own files."
   ]
  },
  {
   "cell_type": "code",
   "execution_count": null,
   "id": "be593ebd-4ae2-4d4f-bdb3-ff743c9498ab",
   "metadata": {},
   "outputs": [],
   "source": []
  },
  {
   "cell_type": "code",
   "execution_count": null,
   "id": "9e537b55-d918-4df4-b43b-ee18dbdbad2b",
   "metadata": {},
   "outputs": [],
   "source": []
  },
  {
   "cell_type": "code",
   "execution_count": null,
   "id": "6bfe1681-6b7b-44e2-8e0c-65751464d927",
   "metadata": {},
   "outputs": [],
   "source": []
  },
  {
   "cell_type": "markdown",
   "id": "f5f6c568-a611-4bb1-b36c-11244906b5ca",
   "metadata": {},
   "source": [
    "### <br><br><br>Getting basic info about the DataFrame"
   ]
  },
  {
   "cell_type": "markdown",
   "id": "3ca39c8b-4b2f-4baf-90d6-b45b5c6bd4c0",
   "metadata": {},
   "source": [
    "You can use the `len()` function to find out how many rows are in a DataFrame object:"
   ]
  },
  {
   "cell_type": "code",
   "execution_count": null,
   "id": "47e27d66-48b1-4e0c-99f7-69d1e9755aa5",
   "metadata": {},
   "outputs": [],
   "source": [
    "len(df)"
   ]
  },
  {
   "cell_type": "markdown",
   "id": "d0b5146c-77eb-4923-84c3-0d771fddbbdd",
   "metadata": {},
   "source": [
    "<br>The `describe()` method will give you some very basic stats about each column in your DataFrame:"
   ]
  },
  {
   "cell_type": "code",
   "execution_count": null,
   "id": "ee1b17d4-81d4-42f1-b584-18e49361ce8d",
   "metadata": {},
   "outputs": [],
   "source": [
    "df.describe()"
   ]
  },
  {
   "cell_type": "markdown",
   "id": "d0772ca9-9784-4ea2-8b79-33bfc23efe1c",
   "metadata": {},
   "source": [
    "<br>The `shape` attribute will return the number of rows and columns as a tuple. An attribute gives us some stored data about an object - it is not a method function, so it does not get parentheses."
   ]
  },
  {
   "cell_type": "code",
   "execution_count": null,
   "id": "3c198928-2fd2-41ab-9f50-01bd57347c62",
   "metadata": {},
   "outputs": [],
   "source": [
    "df.shape"
   ]
  },
  {
   "cell_type": "markdown",
   "id": "4df6da40-ca29-437b-8d15-4a91e95e92b6",
   "metadata": {},
   "source": [
    "You can even save the shape tuple as an object, in case you need to include it in any code:"
   ]
  },
  {
   "cell_type": "code",
   "execution_count": null,
   "id": "ef080b39-916d-49ab-8e4e-c8f46c9504bb",
   "metadata": {},
   "outputs": [],
   "source": [
    "df_shape = df.shape"
   ]
  },
  {
   "cell_type": "code",
   "execution_count": null,
   "id": "24546350-5e1f-4b44-a7b3-c86b8a99244b",
   "metadata": {},
   "outputs": [],
   "source": [
    "print(\"Our DataFrame has \" + str(df_shape[0]) + \" rows and \" + str(df_shape[1]) + \" columns.\")"
   ]
  },
  {
   "cell_type": "markdown",
   "id": "1678f7ec-7f18-42ce-8fd6-033afd48b6c5",
   "metadata": {},
   "source": [
    "<br>The `size` attribute will tell you the total number of elements in the DataFrame (size = rows x columns):"
   ]
  },
  {
   "cell_type": "code",
   "execution_count": null,
   "id": "42785a65-750e-41ad-b7ec-316a08d92f84",
   "metadata": {},
   "outputs": [],
   "source": [
    "df.size"
   ]
  },
  {
   "cell_type": "markdown",
   "id": "e0d18135-10e0-4b80-b033-8bcb7893492c",
   "metadata": {},
   "source": [
    "<br>To return a list of the column names, you can start with the `columns` attribute:"
   ]
  },
  {
   "cell_type": "code",
   "execution_count": null,
   "id": "f76d1e85-ec06-4a20-a880-e7c7ef6ec31d",
   "metadata": {},
   "outputs": [],
   "source": [
    "df.columns"
   ]
  },
  {
   "cell_type": "markdown",
   "id": "d8f1c8cb-d4f3-497b-b2f7-0322ef672caf",
   "metadata": {},
   "source": [
    "Hmm. That looks strange because it is a pandas object. You can make it into a list so that it is easier to work with:"
   ]
  },
  {
   "cell_type": "code",
   "execution_count": null,
   "id": "816c7e65-6a5b-4a1a-9abb-0b9074712016",
   "metadata": {},
   "outputs": [],
   "source": [
    "column_names = list(df.columns)\n",
    "print(column_names)"
   ]
  },
  {
   "cell_type": "markdown",
   "id": "76131bc7-fd7a-4ca1-ad54-2cfd48a801d9",
   "metadata": {},
   "source": [
    "<br>To find out the data types of the data found in each column, use the `dtypes` attribute:"
   ]
  },
  {
   "cell_type": "code",
   "execution_count": null,
   "id": "29e11ace-5786-4240-ac4c-695c8cdd0aa0",
   "metadata": {},
   "outputs": [],
   "source": [
    "df.dtypes"
   ]
  },
  {
   "cell_type": "markdown",
   "id": "9a727130-0d81-4959-b88d-a2b0509252d7",
   "metadata": {},
   "source": [
    "<br>To **transpose** a DataFrame (swap the rows and columns), you also use an attribute:"
   ]
  },
  {
   "cell_type": "code",
   "execution_count": null,
   "id": "f4785770-ec65-4901-b948-a17b4291d727",
   "metadata": {},
   "outputs": [],
   "source": [
    "df.T"
   ]
  },
  {
   "cell_type": "markdown",
   "id": "53ed919c-2376-461d-bd6d-2a53b1f80c55",
   "metadata": {},
   "source": [
    "<br>Let's see if that changed our DataFrame object:"
   ]
  },
  {
   "cell_type": "code",
   "execution_count": null,
   "id": "e21da875-ab56-4734-9d50-7d5f497f0f97",
   "metadata": {},
   "outputs": [],
   "source": [
    "df"
   ]
  },
  {
   "cell_type": "markdown",
   "id": "0d612c4f-45d9-446f-9522-eb3ace390356",
   "metadata": {},
   "source": [
    "<br><br>It didn't change! DataFrames are **immutable objects** like strings and numpy arrays. To save the transposed DataFrame, we would have to reassign it to a variable:"
   ]
  },
  {
   "cell_type": "code",
   "execution_count": null,
   "id": "b63fdd7d-62a9-4a3f-9d36-1c74911ccc0c",
   "metadata": {},
   "outputs": [],
   "source": [
    "df_t = df.T\n",
    "df_t"
   ]
  },
  {
   "cell_type": "markdown",
   "id": "0937b97b-0076-485c-acca-8e05fc541051",
   "metadata": {},
   "source": [
    "### <br><br>Exercise 2"
   ]
  },
  {
   "cell_type": "markdown",
   "id": "742142a1-c2a7-4126-8575-f4f8b550bc83",
   "metadata": {},
   "source": [
    "First run the following code cell to look at the zoo animals DataFrame:"
   ]
  },
  {
   "cell_type": "code",
   "execution_count": null,
   "id": "64045170-65dc-4951-adba-1eaad8cf8cf2",
   "metadata": {},
   "outputs": [],
   "source": [
    "zoo_df"
   ]
  },
  {
   "cell_type": "markdown",
   "id": "0e36cb80-e4a1-4b1c-91f2-da0785deccbb",
   "metadata": {},
   "source": [
    "Write code to create a list of column names from `zoo_df`:"
   ]
  },
  {
   "cell_type": "code",
   "execution_count": null,
   "id": "21c02665-e5d1-4b40-8766-67f6685e8302",
   "metadata": {},
   "outputs": [],
   "source": []
  },
  {
   "cell_type": "markdown",
   "id": "986a65d3-7135-443c-a3ae-de17cbdb700a",
   "metadata": {},
   "source": [
    "Write code to return the data type for each column in `zoo_df`:"
   ]
  },
  {
   "cell_type": "code",
   "execution_count": null,
   "id": "7b051b1c-d698-4722-bc96-19d12cf1d2aa",
   "metadata": {},
   "outputs": [],
   "source": []
  },
  {
   "cell_type": "markdown",
   "id": "4d1c7db4-670a-43d5-932e-26ac1177364c",
   "metadata": {},
   "source": [
    "<br><br><br>At this point, you may want to learn how to select data from your DataFrame. For example, how do you choose a single column to work with? How do you choose all animals that are aquatic? **Selecting data** is a big part of working with pandas DataFrames, but there are actually multiple ways to do it. Tomorrow we are going to focus only on selecting data. For the rest of today, we're going to practice several common tasks you'll want to do that don't involve selecting data. I don't expect you to memorize exactly how to do all these tasks today, but the info will be here for when you need it, plus, we will get practice with some common pandas syntax."
   ]
  },
  {
   "cell_type": "markdown",
   "id": "acacb375-91aa-4c08-a04b-323babe46361",
   "metadata": {},
   "source": [
    "### <br><br><br>Renaming columns"
   ]
  },
  {
   "cell_type": "markdown",
   "id": "7e7952cb-b02f-4fa5-a1c6-8a2718c4bf09",
   "metadata": {},
   "source": [
    "Here's what our column names look like in the forest fire dataset:"
   ]
  },
  {
   "cell_type": "code",
   "execution_count": null,
   "id": "bb8ace45-2473-441e-96df-d6a67b104723",
   "metadata": {},
   "outputs": [],
   "source": [
    "df.head()"
   ]
  },
  {
   "cell_type": "markdown",
   "id": "92eacb13-d4be-4187-9dda-2f1b9765e10a",
   "metadata": {},
   "source": [
    "Four of the columns end in \"\\_code\". Let's remove that part from the column names. We can use the `rename()` method. We need to pass the function a **dictionary** of the old name to be replaced as the key and the new name as the value."
   ]
  },
  {
   "cell_type": "code",
   "execution_count": null,
   "id": "182c7439-aefc-4031-ae1e-4c86a058f762",
   "metadata": {},
   "outputs": [],
   "source": [
    "df.rename(columns = {\"moisture_code\": \"moisture\", \"fuel_code\": \"fuel\"})"
   ]
  },
  {
   "cell_type": "code",
   "execution_count": null,
   "id": "4906d357-7a0e-4acc-91e3-af255c905da9",
   "metadata": {},
   "outputs": [],
   "source": [
    "df.head()"
   ]
  },
  {
   "cell_type": "markdown",
   "id": "ea22d7d9-5ee4-4cce-8f30-ac8a20555d3d",
   "metadata": {},
   "source": [
    "Uh-oh, the change didn't stick. We've encountered this before with strings, so we know the answer - reassign it to a variable."
   ]
  },
  {
   "cell_type": "code",
   "execution_count": null,
   "id": "4773939e-a3a1-4c51-a9a6-17ed1aa2a926",
   "metadata": {},
   "outputs": [],
   "source": [
    "df = df.rename(columns = {\"moisture_code\": \"moisture\", \"fuel_code\": \"fuel\"})"
   ]
  },
  {
   "cell_type": "code",
   "execution_count": null,
   "id": "a3e4e245-0998-4c4c-861f-01ea111eaa9d",
   "metadata": {},
   "outputs": [],
   "source": [
    "df.head()"
   ]
  },
  {
   "cell_type": "markdown",
   "id": "32043262-9b75-4574-8de8-1b8fef178916",
   "metadata": {},
   "source": [
    "### <br><br>Exercise 3"
   ]
  },
  {
   "cell_type": "markdown",
   "id": "bf6153bd-76be-4dec-9af7-fbf9101bc488",
   "metadata": {},
   "source": [
    "Write code to remove \"\\_code\" from the ends of the drought and initial_spread column names:"
   ]
  },
  {
   "cell_type": "code",
   "execution_count": null,
   "id": "0d29bd4c-7a09-426d-99b8-295ea2c39f3a",
   "metadata": {},
   "outputs": [],
   "source": []
  },
  {
   "cell_type": "code",
   "execution_count": null,
   "id": "d9fa8c3e-d758-4afa-a106-d403c2d71421",
   "metadata": {},
   "outputs": [],
   "source": [
    "df.head()"
   ]
  },
  {
   "cell_type": "markdown",
   "id": "7945534a-7a63-480d-9850-ab13c3b52c78",
   "metadata": {},
   "source": [
    "### <br><br><br>Dropping rows and columns"
   ]
  },
  {
   "cell_type": "markdown",
   "id": "e4c28bfc-0553-49da-a2ef-04da03ef1950",
   "metadata": {},
   "source": [
    "Let's drop a single row from the DataFrame. How about row 2? You still have to assign `df` to a variable to make the change permanent:"
   ]
  },
  {
   "cell_type": "code",
   "execution_count": null,
   "id": "6f22fc7f-c188-4eb2-8c31-60456cfaa550",
   "metadata": {},
   "outputs": [],
   "source": [
    "df = df.drop(2)"
   ]
  },
  {
   "cell_type": "code",
   "execution_count": null,
   "id": "d36ea198-242d-4d6d-909d-d65dbe8623ce",
   "metadata": {},
   "outputs": [],
   "source": [
    "df.head()"
   ]
  },
  {
   "cell_type": "markdown",
   "id": "d63eb360-3f16-4b13-8ed3-1c9da785953c",
   "metadata": {},
   "source": [
    "<br>The index numbers did not reset when we dropped a row. 2 is missing!"
   ]
  },
  {
   "cell_type": "markdown",
   "id": "02963eee-17ae-490f-866d-d6564edbb2fa",
   "metadata": {},
   "source": [
    "We can reset the index and pretend like 2 was never there. The `reset_index()` function takes one keyword argument. If we don't pass the argument, `drop=True`, an extra column will get added to our DataFrame containing the old index numbers. Let's first reset the index without passing the argument, but we won't save that DataFrame:"
   ]
  },
  {
   "cell_type": "code",
   "execution_count": null,
   "id": "ff33ce7c-a0fd-4906-bd65-0d0ce953b843",
   "metadata": {},
   "outputs": [],
   "source": [
    "df.reset_index()"
   ]
  },
  {
   "cell_type": "markdown",
   "id": "0f001802-4385-4bb6-81e1-e43ed0e889aa",
   "metadata": {},
   "source": [
    "You can see that new column `index` contains the original index positions. Now let's save a new version of our DataFrame, with the indexes reset, but without that new column:"
   ]
  },
  {
   "cell_type": "code",
   "execution_count": null,
   "id": "ea8fc882-897b-44b0-8fd1-d4b89cf30738",
   "metadata": {},
   "outputs": [],
   "source": [
    "df = df.reset_index(drop=True)"
   ]
  },
  {
   "cell_type": "code",
   "execution_count": null,
   "id": "68723b2b-df63-4776-bb79-779039c2ba23",
   "metadata": {},
   "outputs": [],
   "source": [
    "df.head()"
   ]
  },
  {
   "cell_type": "markdown",
   "id": "e5e5999c-4a3f-43b6-aaf7-f611365d0cc5",
   "metadata": {},
   "source": [
    "<br><br><br>The `drop()` function defaults to dropping rows. If we want to drop a column, we need to add one more argument. `axis=1` is used in pandas to refer to columns as opposed to rows (`axis=0`). The `axis` argument is used elsewhere in pandas, too. Let's drop the \"X\" column:"
   ]
  },
  {
   "cell_type": "code",
   "execution_count": null,
   "id": "0b2704f4-b65e-4b6a-aac2-596713cdb12e",
   "metadata": {},
   "outputs": [],
   "source": [
    "df = df.drop(\"X\", axis=1)"
   ]
  },
  {
   "cell_type": "code",
   "execution_count": null,
   "id": "17f1595b-fe16-4ad9-8c91-4192cbeba0e7",
   "metadata": {},
   "outputs": [],
   "source": [
    "df.head()"
   ]
  },
  {
   "cell_type": "markdown",
   "id": "57de6e60-65e0-42af-a0da-199e72d7a40b",
   "metadata": {},
   "source": [
    "### <br><br>Exercise 4"
   ]
  },
  {
   "cell_type": "markdown",
   "id": "0cff828b-1684-4a82-b674-aac129ac75a2",
   "metadata": {},
   "source": [
    "Write code to view the last 5 rows of the DataFrame:"
   ]
  },
  {
   "cell_type": "code",
   "execution_count": null,
   "id": "568bc398-0c84-45e7-8de3-ecdd576f20df",
   "metadata": {},
   "outputs": [],
   "source": []
  },
  {
   "cell_type": "markdown",
   "id": "231fc3e9-47ef-4971-8f3e-4a8394754279",
   "metadata": {},
   "source": [
    "Now write code to drop the very last row:"
   ]
  },
  {
   "cell_type": "code",
   "execution_count": null,
   "id": "f747b401-106b-44cf-b1c3-0569947bb566",
   "metadata": {},
   "outputs": [],
   "source": []
  },
  {
   "cell_type": "code",
   "execution_count": null,
   "id": "bbb67f6d-d2f4-4722-9fec-7b7cb388ba0f",
   "metadata": {},
   "outputs": [],
   "source": [
    "df.tail()"
   ]
  },
  {
   "cell_type": "markdown",
   "id": "07bdd299-8f07-4043-bf58-18e548844632",
   "metadata": {},
   "source": [
    "Write code to remove the \"Y\" column:"
   ]
  },
  {
   "cell_type": "code",
   "execution_count": null,
   "id": "c73d6453-b28d-4ce1-98d9-68934a0d8fbe",
   "metadata": {
    "tags": []
   },
   "outputs": [],
   "source": []
  },
  {
   "cell_type": "code",
   "execution_count": null,
   "id": "44163ad1-2887-4bab-acc2-4d3ad56edb8a",
   "metadata": {},
   "outputs": [],
   "source": [
    "df.head()"
   ]
  },
  {
   "cell_type": "markdown",
   "id": "e19dce33-5c86-47d9-ab25-5d4d11059209",
   "metadata": {},
   "source": [
    "### <br><br><br>Sorting a DataFrame"
   ]
  },
  {
   "cell_type": "markdown",
   "id": "04fd6cd1-e6c7-48a6-835a-0f89260283c0",
   "metadata": {},
   "source": [
    "There are two functions for sorting your DataFrame."
   ]
  },
  {
   "cell_type": "markdown",
   "id": "9730dab2-af8e-4d44-a410-26e85fbd0ac9",
   "metadata": {},
   "source": [
    "If you want to sort by the index numbers, or if you want to sort by the column names (alphabetically), you use `sort_index`. It can take two arguments: the axis to sort by (row or column) and the order (ascending or not):"
   ]
  },
  {
   "cell_type": "markdown",
   "id": "2605d98f-39e7-4dfa-97df-acc6243ce68c",
   "metadata": {},
   "source": [
    "The default arguments are to sort by row index with 0 at the top, which is how we've already been viewing the data:"
   ]
  },
  {
   "cell_type": "code",
   "execution_count": null,
   "id": "f9f647a3-bbef-41f2-a3c2-f7f89da68a6e",
   "metadata": {},
   "outputs": [],
   "source": [
    "df.sort_index()"
   ]
  },
  {
   "cell_type": "markdown",
   "id": "57781b4e-11eb-4dff-b942-a01117d25a72",
   "metadata": {},
   "source": [
    "Let's try more arguments:"
   ]
  },
  {
   "cell_type": "code",
   "execution_count": null,
   "id": "3b10e393-4cb0-4434-a597-9451ca5452fb",
   "metadata": {},
   "outputs": [],
   "source": [
    "df.sort_index(ascending=False)"
   ]
  },
  {
   "cell_type": "code",
   "execution_count": null,
   "id": "bb6ba387-03e3-4909-85a2-cb9147ab441b",
   "metadata": {},
   "outputs": [],
   "source": [
    "df.sort_index(axis=1)"
   ]
  },
  {
   "cell_type": "code",
   "execution_count": null,
   "id": "b08cdff6-d5b7-49d2-8714-b85270cd576c",
   "metadata": {},
   "outputs": [],
   "source": [
    "df.sort_index(axis=1, ascending=False)"
   ]
  },
  {
   "cell_type": "markdown",
   "id": "f5bc7ed3-c056-4b14-9c2c-d5a3e7190af2",
   "metadata": {},
   "source": [
    "<br><br><br>The second sort function, `sort_values()`, will sort the frame by the data in a column:"
   ]
  },
  {
   "cell_type": "code",
   "execution_count": null,
   "id": "8de618c3-b92f-4256-990e-0cbbdf778b0f",
   "metadata": {},
   "outputs": [],
   "source": [
    "df.sort_values(\"area_burned\")"
   ]
  },
  {
   "cell_type": "code",
   "execution_count": null,
   "id": "e30f22a1-7674-4a1a-9c39-3ff0de2f7a7d",
   "metadata": {},
   "outputs": [],
   "source": [
    "df.sort_values(\"day\")"
   ]
  },
  {
   "cell_type": "markdown",
   "id": "0dad773d-5822-42b8-adb2-bcb1ba62566e",
   "metadata": {},
   "source": [
    "### <br><br>Exercise 5"
   ]
  },
  {
   "cell_type": "markdown",
   "id": "6d9ffe59-71ab-4aec-bbd0-6929c5de7c78",
   "metadata": {},
   "source": [
    "Write code to sort the DataFrame by the rain column, with the largest values at the top:"
   ]
  },
  {
   "cell_type": "code",
   "execution_count": null,
   "id": "10f96ab9-1b06-40ec-98aa-cb0dc606d583",
   "metadata": {},
   "outputs": [],
   "source": []
  },
  {
   "cell_type": "markdown",
   "id": "68f102e4-d6ea-401c-850b-b697bb3fd167",
   "metadata": {},
   "source": [
    "<br><br><br>You can also sort on multiple values by passing the `sort_values` function a list of column names instead of a single name. If we want to first sort by day, then by area burned:"
   ]
  },
  {
   "cell_type": "code",
   "execution_count": null,
   "id": "11c11259-be2c-4173-83dc-f67c8e538cf7",
   "metadata": {},
   "outputs": [],
   "source": [
    "df.sort_values([\"day\", \"area_burned\"])"
   ]
  },
  {
   "cell_type": "markdown",
   "id": "0a7904f3-af8e-4aa6-b131-0b6187be9dd7",
   "metadata": {},
   "source": [
    "### <br><br><br>Saving your changed DataFrame"
   ]
  },
  {
   "cell_type": "markdown",
   "id": "1b986044-8695-47ea-bae8-dcb78254a67d",
   "metadata": {},
   "source": [
    "We've made a lot of changes to the forest fire dataset. Let's save it as a new csv file. First, we can decide what we're going to call the new file:"
   ]
  },
  {
   "cell_type": "code",
   "execution_count": null,
   "id": "de2b9362-6b52-4876-a14f-025bed010645",
   "metadata": {},
   "outputs": [],
   "source": [
    "new_filename = \"fire_changed.csv\""
   ]
  },
  {
   "cell_type": "markdown",
   "id": "0a44dfb0-97b7-4c74-ba48-2e3f0ffb56ad",
   "metadata": {},
   "source": [
    "Next, we can use the `to_csv()` method function to save the new file:"
   ]
  },
  {
   "cell_type": "code",
   "execution_count": null,
   "id": "8fdf8f55-0505-47e6-a0bc-c3508ac689b3",
   "metadata": {},
   "outputs": [],
   "source": [
    "df.to_csv(new_filename)"
   ]
  },
  {
   "cell_type": "markdown",
   "id": "937f244f-c926-45fd-8e3b-26e47092473b",
   "metadata": {},
   "source": [
    "### <br><br>Exercise 6"
   ]
  },
  {
   "cell_type": "markdown",
   "id": "e544a7a5-809c-43d5-8900-97e18c2cc25f",
   "metadata": {},
   "source": [
    "The `zoo_df` DataFrame was originally an Excel file. Write code to save it as a csv file:"
   ]
  },
  {
   "cell_type": "code",
   "execution_count": null,
   "id": "13b67d72-06c1-4305-be75-7bc403ca6f35",
   "metadata": {},
   "outputs": [],
   "source": [
    "new_zoo = "
   ]
  },
  {
   "cell_type": "code",
   "execution_count": null,
   "id": "3cb1245e-6a78-4764-9128-c76e31833ff2",
   "metadata": {},
   "outputs": [],
   "source": []
  }
 ],
 "metadata": {
  "kernelspec": {
   "display_name": "Python 3",
   "language": "python",
   "name": "python3"
  },
  "language_info": {
   "codemirror_mode": {
    "name": "ipython",
    "version": 3
   },
   "file_extension": ".py",
   "mimetype": "text/x-python",
   "name": "python",
   "nbconvert_exporter": "python",
   "pygments_lexer": "ipython3",
   "version": "3.8.2"
  }
 },
 "nbformat": 4,
 "nbformat_minor": 5
}
