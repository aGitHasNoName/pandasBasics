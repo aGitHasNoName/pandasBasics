{
 "cells": [
  {
   "cell_type": "markdown",
   "id": "e4150c8e-011c-41f6-bb31-4e6a90d25840",
   "metadata": {},
   "source": [
    "# pandas"
   ]
  },
  {
   "cell_type": "markdown",
   "id": "c1e75628-ade2-4440-89d8-1baa1c167cf8",
   "metadata": {},
   "source": [
    "## <br>Basic plotting"
   ]
  },
  {
   "cell_type": "markdown",
   "id": "51938dd0-0e8b-44b1-b330-7aea21e1d2ad",
   "metadata": {},
   "source": [
    "Pandas allows you to make some basic plots without loading other packages. Plotting in pandas is good for exploring your data, and we'll focus on that today.\n",
    "<br><br>Pandas is not good for making good-looking, high-quality data visualizations. The Python library for that is called matplotlib. We will not be covering how to make data visualizations for publication, since this is not a matplotlib workshop.\n",
    "<br><br>Pandas' plotting capabilities are actually built on matplotlib, but in a much simpler format."
   ]
  },
  {
   "cell_type": "code",
   "execution_count": null,
   "id": "b7564315-173d-4657-a29d-41cc15b09fe5",
   "metadata": {},
   "outputs": [],
   "source": [
    "import pandas as pd"
   ]
  },
  {
   "cell_type": "markdown",
   "id": "ade53ed5-5223-4b5c-a858-1d430f43527a",
   "metadata": {},
   "source": [
    "We're going to work with our forest fire dataset again."
   ]
  },
  {
   "cell_type": "markdown",
   "id": "4149e70c-93c3-4cf6-a8b0-cba61bedaf47",
   "metadata": {},
   "source": [
    "#### If you are using Google Colab, you must run the next line of code. *If you are NOT using Google Colab, do NOT run the next line.*"
   ]
  },
  {
   "cell_type": "code",
   "execution_count": null,
   "id": "6e3dcd4b-1373-47fc-a582-768658cb3b02",
   "metadata": {},
   "outputs": [],
   "source": [
    "!wget https://raw.githubusercontent.com/aGitHasNoName/pandasBasics/main/forestfires.csv"
   ]
  },
  {
   "cell_type": "markdown",
   "id": "c9b90130-1cc9-4e8a-a9c6-a85b7b2b7049",
   "metadata": {},
   "source": [
    "<br><br>Everyone can now run the next line of code to create a DataFrame from our csv file."
   ]
  },
  {
   "cell_type": "code",
   "execution_count": null,
   "id": "756c04ed-1b5f-4d94-bb41-b4eca8691243",
   "metadata": {},
   "outputs": [],
   "source": [
    "df = pd.read_csv(\"forestfires.csv\")"
   ]
  },
  {
   "cell_type": "code",
   "execution_count": null,
   "id": "c74fc578-d3f6-4b5f-af3d-f8bcc155b6b0",
   "metadata": {},
   "outputs": [],
   "source": [
    "df.head()"
   ]
  },
  {
   "cell_type": "markdown",
   "id": "fd73ecaa-0c43-4277-a97b-26df125488c4",
   "metadata": {},
   "source": [
    "### <br><br>Histograms"
   ]
  },
  {
   "cell_type": "markdown",
   "id": "02ada333-5a0c-4bbb-93d2-6d38a7ba8087",
   "metadata": {},
   "source": [
    "One of the most common data exploration tasks you might do is to check the distributions of the columns in your dataset."
   ]
  },
  {
   "cell_type": "markdown",
   "id": "207c4273-52e5-4157-a514-9ad018357ebf",
   "metadata": {},
   "source": [
    "We will use the `hist()` method function on the `temp` column."
   ]
  },
  {
   "cell_type": "code",
   "execution_count": null,
   "id": "3834f4f8-bc0b-455b-856e-e3fccac8ce24",
   "metadata": {},
   "outputs": [],
   "source": [
    "df[\"temp\"].hist()"
   ]
  },
  {
   "cell_type": "markdown",
   "id": "0d55a1fc-7dcb-45aa-bf69-3353ff293ade",
   "metadata": {},
   "source": [
    "<br><br>Like I said, it's not pretty, but it tells us the story of our data."
   ]
  },
  {
   "cell_type": "markdown",
   "id": "3a67b8dd-cabb-4e10-ae3e-c1bc6f6f47b8",
   "metadata": {},
   "source": [
    "By default, `hist()` will divide the data into 10 bins. We can change that by passing a keyword argument:"
   ]
  },
  {
   "cell_type": "code",
   "execution_count": null,
   "id": "b7b2baa6-12ac-458f-8ad5-ef718146096c",
   "metadata": {},
   "outputs": [],
   "source": [
    "df[\"temp\"].hist(bins=20)"
   ]
  },
  {
   "cell_type": "markdown",
   "id": "5dbc5344-ae39-4023-89fe-4c910118f4b9",
   "metadata": {},
   "source": [
    "### <br><br>Exercise 1"
   ]
  },
  {
   "cell_type": "markdown",
   "id": "0f18a5a8-3ce0-4f22-91ea-5086874e23ce",
   "metadata": {},
   "source": [
    "Make a histogram of the `humidity` column. Specify that you want the data grouped into 15 bins."
   ]
  },
  {
   "cell_type": "code",
   "execution_count": null,
   "id": "2bab35cc-9077-4727-b073-826755551d50",
   "metadata": {},
   "outputs": [],
   "source": []
  },
  {
   "cell_type": "markdown",
   "id": "0efd2b35-dee4-4975-9603-d0aa1321c1ac",
   "metadata": {},
   "source": [
    "<br><br><br>Another way to create a histogram in pandas is to do:"
   ]
  },
  {
   "cell_type": "code",
   "execution_count": null,
   "id": "4c4c773f-912f-49fb-9e01-47babbf12cf6",
   "metadata": {},
   "outputs": [],
   "source": [
    "df.hist(column=\"temp\")"
   ]
  },
  {
   "cell_type": "markdown",
   "id": "94cfe1d0-cfe2-456c-b956-9a81978cfb44",
   "metadata": {},
   "source": [
    "<br>Both ways are doing the same thing. In one, we're making a histogram on a sample of our dataframe. In the second, we're calling `hist()` on the entire dataframe and then specifying the column with an argument."
   ]
  },
  {
   "cell_type": "markdown",
   "id": "e4d96b59-1497-4c5d-9efe-e36e92ce8c4b",
   "metadata": {},
   "source": [
    "<br>If we don't specify a column, we will get histograms of all columns with numerical data:"
   ]
  },
  {
   "cell_type": "code",
   "execution_count": null,
   "id": "22bad195-f1b6-4c7f-a4f0-7fc6d996aa95",
   "metadata": {},
   "outputs": [],
   "source": [
    "df.hist()"
   ]
  },
  {
   "cell_type": "markdown",
   "id": "f5ea2eb2-472c-4f73-8497-c9b503d0b6f9",
   "metadata": {},
   "source": [
    "<br>We can also ask for a list of columns:"
   ]
  },
  {
   "cell_type": "code",
   "execution_count": null,
   "id": "1c4915e0-1208-480e-bb01-8a0bfb75d1af",
   "metadata": {},
   "outputs": [],
   "source": [
    "df.hist(column=[\"temp\", \"humidity\"])"
   ]
  },
  {
   "cell_type": "markdown",
   "id": "aa63cf2e-b59a-4b44-bc03-e3a09114255d",
   "metadata": {},
   "source": [
    "### <br><br>Exercise 2"
   ]
  },
  {
   "cell_type": "markdown",
   "id": "220d72d5-36ee-4477-9e67-35a1f48eca56",
   "metadata": {},
   "source": [
    "In one line of code, create histograms for the `moisture_code` and `drought_code` columns."
   ]
  },
  {
   "cell_type": "code",
   "execution_count": null,
   "id": "77ae3c4e-9935-4208-80cf-808cd9d078df",
   "metadata": {},
   "outputs": [],
   "source": []
  },
  {
   "cell_type": "markdown",
   "id": "4f546eea-8403-4e5b-95ba-b66a44497e76",
   "metadata": {},
   "source": [
    "**<br><br><br>What other changes can we make to our histogram?**"
   ]
  },
  {
   "cell_type": "markdown",
   "id": "2b0915b2-1753-4022-9d73-201c68fe47f1",
   "metadata": {},
   "source": [
    "Let's look at the documentation. https://pandas.pydata.org/docs/reference/api/pandas.DataFrame.hist.html"
   ]
  },
  {
   "cell_type": "markdown",
   "id": "ffe19010-77b7-4b17-b723-1a3d8f46c229",
   "metadata": {},
   "source": [
    "<br>We can get rid of the grid lines!"
   ]
  },
  {
   "cell_type": "code",
   "execution_count": null,
   "id": "b9e4a29e-030c-46fe-b49f-7139948948bc",
   "metadata": {},
   "outputs": [],
   "source": [
    "df.hist(column=\"temp\", grid=False)"
   ]
  },
  {
   "cell_type": "markdown",
   "id": "b27ab82c-55de-4400-b69e-be257ec8dc64",
   "metadata": {},
   "source": [
    "<br>We can also change the figure size. The `figsize` keyword argument takes a list containing two numbers: width in inches and height in inches."
   ]
  },
  {
   "cell_type": "markdown",
   "id": "4c7cbdf0-e424-46c5-b907-978bcace9cd0",
   "metadata": {},
   "source": [
    "### <br><br>Exercise 3"
   ]
  },
  {
   "cell_type": "markdown",
   "id": "2979a996-aaae-4657-b97e-eb917a809b4a",
   "metadata": {},
   "source": [
    "Remember this plot?"
   ]
  },
  {
   "cell_type": "code",
   "execution_count": null,
   "id": "ba70cc40-8d72-4879-92aa-39edbe570071",
   "metadata": {},
   "outputs": [],
   "source": [
    "df.hist()"
   ]
  },
  {
   "cell_type": "markdown",
   "id": "41a2747e-33ff-4083-a856-8c9f8776b2b2",
   "metadata": {},
   "source": [
    "<br>Change the figure size in the next line of code until you can see the plots better:"
   ]
  },
  {
   "cell_type": "code",
   "execution_count": null,
   "id": "46f1681f-8050-4b62-b80c-aa55eaf82b7f",
   "metadata": {},
   "outputs": [],
   "source": [
    "df.hist(grid=False, figsize=[2,2])"
   ]
  },
  {
   "cell_type": "markdown",
   "id": "b084cb50-71b5-4d5e-88de-d370c92be74e",
   "metadata": {},
   "source": [
    "## <br><br><br>Scatter plots to check for correlation"
   ]
  },
  {
   "cell_type": "markdown",
   "id": "7f5156b7-a2d2-4660-abcf-7ccfb2ed9c87",
   "metadata": {},
   "source": [
    "We can make a quick scatter plot to check for correlation between 2 columns. We have to use a slightly different format for our scatter plot function. We are going to do `df.plot.scatter()`. This function requires two arguments, the columns for your x and y axes."
   ]
  },
  {
   "cell_type": "code",
   "execution_count": null,
   "id": "e09fd4c7-f4a7-4c5d-a237-803bf2d7e7af",
   "metadata": {},
   "outputs": [],
   "source": [
    "df.plot.scatter(x=\"temp\", y=\"humidity\")"
   ]
  },
  {
   "cell_type": "markdown",
   "id": "6eeab0c5-68d0-4e66-82bc-0816ff1400d4",
   "metadata": {},
   "source": [
    "### <br><br>Exercise 4"
   ]
  },
  {
   "cell_type": "markdown",
   "id": "a01bab11-4f32-4b9f-8132-06efa894c12e",
   "metadata": {},
   "source": [
    "Write code to create a scatter plot with the moisture_code column on the x-axis and the drought_code column on the y-axis."
   ]
  },
  {
   "cell_type": "code",
   "execution_count": null,
   "id": "b23f284c-cdd4-44da-af91-407dec23ab75",
   "metadata": {},
   "outputs": [],
   "source": []
  },
  {
   "cell_type": "markdown",
   "id": "07d4c712-74d2-472e-a08e-fe963dd65e5b",
   "metadata": {},
   "source": [
    "Based on what we learned with `hist()`, can you add a grid to the scatter plot you just made and change the size so that it is a perfect square?"
   ]
  },
  {
   "cell_type": "code",
   "execution_count": null,
   "id": "20fe5c2e-fa54-4ea8-b914-13a14a8babba",
   "metadata": {},
   "outputs": [],
   "source": []
  },
  {
   "cell_type": "markdown",
   "id": "36a38ae7-cc25-4f30-a474-26df847a072a",
   "metadata": {},
   "source": [
    "## <br><br><br>Slightly more complicated examples"
   ]
  },
  {
   "cell_type": "markdown",
   "id": "eff080bd-06a8-4cc2-ae75-b361981c78a8",
   "metadata": {},
   "source": [
    "### <br>Removing Outliers"
   ]
  },
  {
   "cell_type": "markdown",
   "id": "a5e95907-43be-4587-bbdc-9e1b33614158",
   "metadata": {},
   "source": [
    "Let's look at the correlation between humidity and area_burned:"
   ]
  },
  {
   "cell_type": "code",
   "execution_count": null,
   "id": "7616f082-cde8-4f67-9b9a-1b16243294ec",
   "metadata": {},
   "outputs": [],
   "source": [
    "df.plot.scatter(x=\"humidity\", y=\"area_burned\")"
   ]
  },
  {
   "cell_type": "markdown",
   "id": "d5bfc244-875c-45ff-8394-c7c229c31a64",
   "metadata": {},
   "source": [
    "<br>We can see that a few outliers are clouding any relationship. We can remove them with a boolean, but we need to look at the plot above and decide where to make the cutoff. Let's try getting rid of only points above 400."
   ]
  },
  {
   "cell_type": "code",
   "execution_count": null,
   "id": "be3d6d70-62fe-47b4-aa73-9ac86218d29c",
   "metadata": {},
   "outputs": [],
   "source": [
    "df_no_outliers = df[df[\"area_burned\"] < 400]"
   ]
  },
  {
   "cell_type": "code",
   "execution_count": null,
   "id": "f63c89ae-5a3f-4cc5-9ad9-95ac17f295d6",
   "metadata": {},
   "outputs": [],
   "source": [
    "df_no_outliers.plot.scatter(x=\"humidity\", y=\"area_burned\")"
   ]
  },
  {
   "cell_type": "markdown",
   "id": "e62fd076-5aa8-464c-a8b5-aed60f5963b8",
   "metadata": {},
   "source": [
    "<br><br>There are a large number of points with 0 for area_burned. Let's remove those, and only look at days where the fires spread."
   ]
  },
  {
   "cell_type": "code",
   "execution_count": null,
   "id": "9e78ae43-6c6a-4a53-9960-337804a69531",
   "metadata": {},
   "outputs": [],
   "source": [
    "df_no_outliers = df[(df[\"area_burned\"] > 0) & (df[\"area_burned\"] < 400)]"
   ]
  },
  {
   "cell_type": "code",
   "execution_count": null,
   "id": "837dff94-e426-497b-b49d-11ca8768660e",
   "metadata": {},
   "outputs": [],
   "source": [
    "df_no_outliers.plot.scatter(x=\"humidity\", y=\"area_burned\")"
   ]
  },
  {
   "cell_type": "markdown",
   "id": "43c85196-e487-43a1-a06b-e913f6bbfc49",
   "metadata": {},
   "source": [
    "### <br><br><br>Plotting with categorical data"
   ]
  },
  {
   "cell_type": "markdown",
   "id": "7edc1f93-4767-4a01-a868-fc9f896ee531",
   "metadata": {},
   "source": [
    "Let's say we want to see the relationship between month and humidity. We can try a scatter plot:"
   ]
  },
  {
   "cell_type": "code",
   "execution_count": null,
   "id": "85398df1-03fe-4994-903d-b5a0a41c5a0b",
   "metadata": {},
   "outputs": [],
   "source": [
    "df.plot.scatter(x=\"month\", y=\"humidity\")"
   ]
  },
  {
   "cell_type": "markdown",
   "id": "d6add19c-0bab-43ee-ab00-023ebc5537d4",
   "metadata": {},
   "source": [
    "<br>That doesn't work! Let's try another type of plot - a bar plot:"
   ]
  },
  {
   "cell_type": "code",
   "execution_count": null,
   "id": "04f809c7-b715-4b97-b640-0439c692b732",
   "metadata": {},
   "outputs": [],
   "source": [
    "df.plot.bar(x=\"month\", y=\"humidity\")"
   ]
  },
  {
   "cell_type": "markdown",
   "id": "8e2a332f-bd1b-4d14-b9de-e8c9d1e24f08",
   "metadata": {},
   "source": [
    "<br>Also not what we're looking for. It's plotting each data point individually."
   ]
  },
  {
   "cell_type": "markdown",
   "id": "1d47bb09-c141-47cb-9fde-3bcfe36903db",
   "metadata": {},
   "source": [
    "What we really want to see is how the mean humidity changes each month. We can create a new DataFrame that only includes the data we need. We will group by month, select only the humidity column, and then find the mean."
   ]
  },
  {
   "cell_type": "code",
   "execution_count": null,
   "id": "5d0678d8-ecbf-4fc8-8967-9fbfd4fdd7b8",
   "metadata": {},
   "outputs": [],
   "source": [
    "hum_mean = df.groupby(\"month\")[\"humidity\"].mean()\n",
    "hum_mean"
   ]
  },
  {
   "cell_type": "markdown",
   "id": "5e00d6a7-fb58-4b65-ad95-8d12aa0e86f3",
   "metadata": {},
   "source": [
    "<br>Now we have a nice series object that we can plot:"
   ]
  },
  {
   "cell_type": "code",
   "execution_count": null,
   "id": "dcb77667-c3e4-4d3c-9e16-1e0a94048df2",
   "metadata": {},
   "outputs": [],
   "source": [
    "hum_mean.plot.bar()"
   ]
  },
  {
   "cell_type": "markdown",
   "id": "60106ed8-8da1-4632-9448-8787aaa92d31",
   "metadata": {},
   "source": [
    "<br>This is looking better, but we need to sort them by month, not alphabetically. We're going to worry about that in just a minute."
   ]
  },
  {
   "cell_type": "markdown",
   "id": "4c5175ea-644d-4898-a4ab-84ba7617239f",
   "metadata": {},
   "source": [
    "### <br><br>Exercise 5"
   ]
  },
  {
   "cell_type": "markdown",
   "id": "21b8c2bf-d403-4aa0-83d2-c8e4ac81bf87",
   "metadata": {},
   "source": [
    "Create a bar graph that shows mean temperature grouped by month. First you'll need to create a new series object with the means. Refer back to the humidity exercise directly above."
   ]
  },
  {
   "cell_type": "code",
   "execution_count": null,
   "id": "3ba7563f-3ca5-4dd6-b10d-5016573b706e",
   "metadata": {},
   "outputs": [],
   "source": [
    "temp_mean = "
   ]
  },
  {
   "cell_type": "code",
   "execution_count": null,
   "id": "2c581741-16c6-466c-ab39-b3e8660192b5",
   "metadata": {},
   "outputs": [],
   "source": []
  },
  {
   "cell_type": "markdown",
   "id": "e2d71eeb-d3b9-4c5f-9c87-a14776ea8838",
   "metadata": {},
   "source": [
    "<br><br><br>Let's deal with the sorting issue! We can create a new column in our DataFrame that contains a numerical value for the month. We will use a handy pandas function called `replace()`. It takes two arguments: a list of items to replace, and a list of the replacement values in the same order:"
   ]
  },
  {
   "cell_type": "code",
   "execution_count": null,
   "id": "501d3069-c2e8-4df9-a972-fb8083512858",
   "metadata": {},
   "outputs": [],
   "source": [
    "df[\"month_num\"] = df[\"month\"].replace([\"jan\", \"feb\", \"mar\", \"apr\", \n",
    "                          \"may\", \"jun\", \"jul\", \"aug\", \n",
    "                          \"sep\", \"oct\", \"nov\", \"dec\"], \n",
    "                         [1, 2, 3, 4, 5, 6, 7, 8, 9, \n",
    "                          10, 11, 12])\n",
    "df.head()"
   ]
  },
  {
   "cell_type": "markdown",
   "id": "8d717066-f52b-4eb5-b8ab-0950cd5a7f8a",
   "metadata": {},
   "source": [
    "<br>Now we will repeat the humidity plot we just did, but we will group by the new column."
   ]
  },
  {
   "cell_type": "code",
   "execution_count": null,
   "id": "f4c407eb-77ef-4048-829e-218735a79c82",
   "metadata": {},
   "outputs": [],
   "source": [
    "hum_mean = df.groupby(\"month_num\")[\"humidity\"].mean()\n",
    "hum_mean.plot.bar()"
   ]
  },
  {
   "cell_type": "markdown",
   "id": "53ce41ce-0c2b-4d2d-b5c3-b45b353dd82c",
   "metadata": {},
   "source": [
    "## <br><br><br>Other packages for exploring data"
   ]
  },
  {
   "cell_type": "markdown",
   "id": "8ec6a83d-13c5-46d7-8828-bcf38c3305d2",
   "metadata": {},
   "source": [
    "There are a few packages that have been created to help you visualize your data during the data exploration step without writing the code for yourself. They also have their limitations, however."
   ]
  },
  {
   "cell_type": "markdown",
   "id": "17839474-3d70-4d9b-b9cf-70fe65888a41",
   "metadata": {},
   "source": [
    "- pandas-profiling (gives in-depth summaries about your dataset) (I've been having trouble with the installation/dependencies lately)\n",
    "- sweetviz (designed as exploration prior to machine learning, so it requires you to split your data into train and test and select a target variable)"
   ]
  },
  {
   "cell_type": "markdown",
   "id": "48e4dba6-3dca-40f9-bebe-1e5e337f4663",
   "metadata": {},
   "source": [
    "Both packages cover:\n",
    "- data type, unique values, missing values\n",
    "- Quantile statistics like minimum value, Q1, median, Q3, maximum, range, interquartile range\n",
    "- Descriptive statistics like mean, mode, standard deviation, sum, median absolute deviation, coefficient of variation, kurtosis, skewness\n",
    "- Histograms\n",
    "- Correlations of variables\n",
    "- Missing values matrix, count, etc."
   ]
  },
  {
   "cell_type": "code",
   "execution_count": null,
   "id": "ef300334-75e3-4001-bc8b-45022f94c0b8",
   "metadata": {},
   "outputs": [],
   "source": []
  }
 ],
 "metadata": {
  "kernelspec": {
   "display_name": "Python 3",
   "language": "python",
   "name": "python3"
  },
  "language_info": {
   "codemirror_mode": {
    "name": "ipython",
    "version": 3
   },
   "file_extension": ".py",
   "mimetype": "text/x-python",
   "name": "python",
   "nbconvert_exporter": "python",
   "pygments_lexer": "ipython3",
   "version": "3.8.2"
  }
 },
 "nbformat": 4,
 "nbformat_minor": 5
}
